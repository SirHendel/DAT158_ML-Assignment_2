{
 "cells": [
  {
   "cell_type": "code",
   "execution_count": 1,
   "id": "e2f8148e",
   "metadata": {
    "_cell_guid": "b1076dfc-b9ad-4769-8c92-a6c4dae69d19",
    "_uuid": "8f2839f25d086af736a60e9eeb907d3b93b6e0e5",
    "execution": {
     "iopub.execute_input": "2022-10-13T08:37:57.911114Z",
     "iopub.status.busy": "2022-10-13T08:37:57.910181Z",
     "iopub.status.idle": "2022-10-13T08:37:59.056140Z",
     "shell.execute_reply": "2022-10-13T08:37:59.054669Z"
    },
    "papermill": {
     "duration": 1.156911,
     "end_time": "2022-10-13T08:37:59.059056",
     "exception": false,
     "start_time": "2022-10-13T08:37:57.902145",
     "status": "completed"
    },
    "tags": []
   },
   "outputs": [
    {
     "name": "stdout",
     "output_type": "stream",
     "text": [
      "/kaggle/input/nyc-taxi-trip-duration/train.zip\n",
      "/kaggle/input/nyc-taxi-trip-duration/test.zip\n",
      "/kaggle/input/nyc-taxi-trip-duration/sample_submission.zip\n"
     ]
    }
   ],
   "source": [
    "# This Python 3 environment comes with many helpful analytics libraries installed\n",
    "# It is defined by the kaggle/python Docker image: https://github.com/kaggle/docker-python\n",
    "# For example, here's several helpful packages to load\n",
    "\n",
    "import numpy as np # linear algebra\n",
    "import pandas as pd # data processing, CSV file I/O (e.g. pd.read_csv)\n",
    "import matplotlib.pyplot as plt\n",
    "import seaborn as sns\n",
    "%matplotlib inline\n",
    "import zipfile\n",
    "\n",
    "# Input data files are available in the read-only \"../input/\" directory\n",
    "# For example, running this (by clicking run or pressing Shift+Enter) will list all files under the input directory\n",
    "\n",
    "import os\n",
    "for dirname, _, filenames in os.walk('/kaggle/input'):\n",
    "    for filename in filenames:\n",
    "        print(os.path.join(dirname, filename))\n",
    "\n",
    "# You can write up to 20GB to the current directory (/kaggle/working/) that gets preserved as output when you create a version using \"Save & Run All\" \n",
    "# You can also write temporary files to /kaggle/temp/, but they won't be saved outside of the current session"
   ]
  },
  {
   "cell_type": "code",
   "execution_count": 2,
   "id": "5e08fe0d",
   "metadata": {
    "execution": {
     "iopub.execute_input": "2022-10-13T08:37:59.067968Z",
     "iopub.status.busy": "2022-10-13T08:37:59.067231Z",
     "iopub.status.idle": "2022-10-13T08:38:08.113556Z",
     "shell.execute_reply": "2022-10-13T08:38:08.112210Z"
    },
    "papermill": {
     "duration": 9.053698,
     "end_time": "2022-10-13T08:38:08.116461",
     "exception": false,
     "start_time": "2022-10-13T08:37:59.062763",
     "status": "completed"
    },
    "tags": []
   },
   "outputs": [],
   "source": [
    "zf_train = zipfile.ZipFile('../input/nyc-taxi-trip-duration/train.zip')\n",
    "nyc_data = pd.read_csv(zf_train.open('train.csv'))\n",
    "\n",
    "zf_test = zipfile.ZipFile('../input/nyc-taxi-trip-duration/test.zip')\n",
    "test = pd.read_csv(zf_test.open('test.csv'))"
   ]
  },
  {
   "cell_type": "code",
   "execution_count": 3,
   "id": "1f512b32",
   "metadata": {
    "execution": {
     "iopub.execute_input": "2022-10-13T08:38:08.125094Z",
     "iopub.status.busy": "2022-10-13T08:38:08.124652Z",
     "iopub.status.idle": "2022-10-13T08:38:08.134004Z",
     "shell.execute_reply": "2022-10-13T08:38:08.132803Z"
    },
    "papermill": {
     "duration": 0.016339,
     "end_time": "2022-10-13T08:38:08.136386",
     "exception": false,
     "start_time": "2022-10-13T08:38:08.120047",
     "status": "completed"
    },
    "tags": []
   },
   "outputs": [
    {
     "data": {
      "text/plain": [
       "(1458644, 11)"
      ]
     },
     "execution_count": 3,
     "metadata": {},
     "output_type": "execute_result"
    }
   ],
   "source": [
    "nyc_data.shape"
   ]
  },
  {
   "cell_type": "code",
   "execution_count": 4,
   "id": "05842c1f",
   "metadata": {
    "execution": {
     "iopub.execute_input": "2022-10-13T08:38:08.145704Z",
     "iopub.status.busy": "2022-10-13T08:38:08.144727Z",
     "iopub.status.idle": "2022-10-13T08:38:08.169155Z",
     "shell.execute_reply": "2022-10-13T08:38:08.168141Z"
    },
    "papermill": {
     "duration": 0.031698,
     "end_time": "2022-10-13T08:38:08.171651",
     "exception": false,
     "start_time": "2022-10-13T08:38:08.139953",
     "status": "completed"
    },
    "tags": []
   },
   "outputs": [
    {
     "data": {
      "text/html": [
       "<div>\n",
       "<style scoped>\n",
       "    .dataframe tbody tr th:only-of-type {\n",
       "        vertical-align: middle;\n",
       "    }\n",
       "\n",
       "    .dataframe tbody tr th {\n",
       "        vertical-align: top;\n",
       "    }\n",
       "\n",
       "    .dataframe thead th {\n",
       "        text-align: right;\n",
       "    }\n",
       "</style>\n",
       "<table border=\"1\" class=\"dataframe\">\n",
       "  <thead>\n",
       "    <tr style=\"text-align: right;\">\n",
       "      <th></th>\n",
       "      <th>id</th>\n",
       "      <th>vendor_id</th>\n",
       "      <th>pickup_datetime</th>\n",
       "      <th>dropoff_datetime</th>\n",
       "      <th>passenger_count</th>\n",
       "      <th>pickup_longitude</th>\n",
       "      <th>pickup_latitude</th>\n",
       "      <th>dropoff_longitude</th>\n",
       "      <th>dropoff_latitude</th>\n",
       "      <th>store_and_fwd_flag</th>\n",
       "      <th>trip_duration</th>\n",
       "    </tr>\n",
       "  </thead>\n",
       "  <tbody>\n",
       "    <tr>\n",
       "      <th>0</th>\n",
       "      <td>id2875421</td>\n",
       "      <td>2</td>\n",
       "      <td>2016-03-14 17:24:55</td>\n",
       "      <td>2016-03-14 17:32:30</td>\n",
       "      <td>1</td>\n",
       "      <td>-73.982155</td>\n",
       "      <td>40.767937</td>\n",
       "      <td>-73.964630</td>\n",
       "      <td>40.765602</td>\n",
       "      <td>N</td>\n",
       "      <td>455</td>\n",
       "    </tr>\n",
       "    <tr>\n",
       "      <th>1</th>\n",
       "      <td>id2377394</td>\n",
       "      <td>1</td>\n",
       "      <td>2016-06-12 00:43:35</td>\n",
       "      <td>2016-06-12 00:54:38</td>\n",
       "      <td>1</td>\n",
       "      <td>-73.980415</td>\n",
       "      <td>40.738564</td>\n",
       "      <td>-73.999481</td>\n",
       "      <td>40.731152</td>\n",
       "      <td>N</td>\n",
       "      <td>663</td>\n",
       "    </tr>\n",
       "    <tr>\n",
       "      <th>2</th>\n",
       "      <td>id3858529</td>\n",
       "      <td>2</td>\n",
       "      <td>2016-01-19 11:35:24</td>\n",
       "      <td>2016-01-19 12:10:48</td>\n",
       "      <td>1</td>\n",
       "      <td>-73.979027</td>\n",
       "      <td>40.763939</td>\n",
       "      <td>-74.005333</td>\n",
       "      <td>40.710087</td>\n",
       "      <td>N</td>\n",
       "      <td>2124</td>\n",
       "    </tr>\n",
       "    <tr>\n",
       "      <th>3</th>\n",
       "      <td>id3504673</td>\n",
       "      <td>2</td>\n",
       "      <td>2016-04-06 19:32:31</td>\n",
       "      <td>2016-04-06 19:39:40</td>\n",
       "      <td>1</td>\n",
       "      <td>-74.010040</td>\n",
       "      <td>40.719971</td>\n",
       "      <td>-74.012268</td>\n",
       "      <td>40.706718</td>\n",
       "      <td>N</td>\n",
       "      <td>429</td>\n",
       "    </tr>\n",
       "    <tr>\n",
       "      <th>4</th>\n",
       "      <td>id2181028</td>\n",
       "      <td>2</td>\n",
       "      <td>2016-03-26 13:30:55</td>\n",
       "      <td>2016-03-26 13:38:10</td>\n",
       "      <td>1</td>\n",
       "      <td>-73.973053</td>\n",
       "      <td>40.793209</td>\n",
       "      <td>-73.972923</td>\n",
       "      <td>40.782520</td>\n",
       "      <td>N</td>\n",
       "      <td>435</td>\n",
       "    </tr>\n",
       "  </tbody>\n",
       "</table>\n",
       "</div>"
      ],
      "text/plain": [
       "          id  vendor_id      pickup_datetime     dropoff_datetime  \\\n",
       "0  id2875421          2  2016-03-14 17:24:55  2016-03-14 17:32:30   \n",
       "1  id2377394          1  2016-06-12 00:43:35  2016-06-12 00:54:38   \n",
       "2  id3858529          2  2016-01-19 11:35:24  2016-01-19 12:10:48   \n",
       "3  id3504673          2  2016-04-06 19:32:31  2016-04-06 19:39:40   \n",
       "4  id2181028          2  2016-03-26 13:30:55  2016-03-26 13:38:10   \n",
       "\n",
       "   passenger_count  pickup_longitude  pickup_latitude  dropoff_longitude  \\\n",
       "0                1        -73.982155        40.767937         -73.964630   \n",
       "1                1        -73.980415        40.738564         -73.999481   \n",
       "2                1        -73.979027        40.763939         -74.005333   \n",
       "3                1        -74.010040        40.719971         -74.012268   \n",
       "4                1        -73.973053        40.793209         -73.972923   \n",
       "\n",
       "   dropoff_latitude store_and_fwd_flag  trip_duration  \n",
       "0         40.765602                  N            455  \n",
       "1         40.731152                  N            663  \n",
       "2         40.710087                  N           2124  \n",
       "3         40.706718                  N            429  \n",
       "4         40.782520                  N            435  "
      ]
     },
     "execution_count": 4,
     "metadata": {},
     "output_type": "execute_result"
    }
   ],
   "source": [
    "nyc_data.head(5)"
   ]
  },
  {
   "cell_type": "code",
   "execution_count": 5,
   "id": "7332deed",
   "metadata": {
    "execution": {
     "iopub.execute_input": "2022-10-13T08:38:08.181595Z",
     "iopub.status.busy": "2022-10-13T08:38:08.181204Z",
     "iopub.status.idle": "2022-10-13T08:38:08.188619Z",
     "shell.execute_reply": "2022-10-13T08:38:08.187474Z"
    },
    "papermill": {
     "duration": 0.015446,
     "end_time": "2022-10-13T08:38:08.190967",
     "exception": false,
     "start_time": "2022-10-13T08:38:08.175521",
     "status": "completed"
    },
    "tags": []
   },
   "outputs": [
    {
     "data": {
      "text/plain": [
       "Index(['id', 'vendor_id', 'pickup_datetime', 'dropoff_datetime',\n",
       "       'passenger_count', 'pickup_longitude', 'pickup_latitude',\n",
       "       'dropoff_longitude', 'dropoff_latitude', 'store_and_fwd_flag',\n",
       "       'trip_duration'],\n",
       "      dtype='object')"
      ]
     },
     "execution_count": 5,
     "metadata": {},
     "output_type": "execute_result"
    }
   ],
   "source": [
    "nyc_data.columns"
   ]
  },
  {
   "cell_type": "code",
   "execution_count": 6,
   "id": "069e9d6c",
   "metadata": {
    "execution": {
     "iopub.execute_input": "2022-10-13T08:38:08.200054Z",
     "iopub.status.busy": "2022-10-13T08:38:08.199632Z",
     "iopub.status.idle": "2022-10-13T08:38:08.488865Z",
     "shell.execute_reply": "2022-10-13T08:38:08.487421Z"
    },
    "papermill": {
     "duration": 0.298001,
     "end_time": "2022-10-13T08:38:08.492766",
     "exception": false,
     "start_time": "2022-10-13T08:38:08.194765",
     "status": "completed"
    },
    "tags": []
   },
   "outputs": [
    {
     "name": "stdout",
     "output_type": "stream",
     "text": [
      "<class 'pandas.core.frame.DataFrame'>\n",
      "RangeIndex: 1458644 entries, 0 to 1458643\n",
      "Data columns (total 11 columns):\n",
      " #   Column              Non-Null Count    Dtype  \n",
      "---  ------              --------------    -----  \n",
      " 0   id                  1458644 non-null  object \n",
      " 1   vendor_id           1458644 non-null  int64  \n",
      " 2   pickup_datetime     1458644 non-null  object \n",
      " 3   dropoff_datetime    1458644 non-null  object \n",
      " 4   passenger_count     1458644 non-null  int64  \n",
      " 5   pickup_longitude    1458644 non-null  float64\n",
      " 6   pickup_latitude     1458644 non-null  float64\n",
      " 7   dropoff_longitude   1458644 non-null  float64\n",
      " 8   dropoff_latitude    1458644 non-null  float64\n",
      " 9   store_and_fwd_flag  1458644 non-null  object \n",
      " 10  trip_duration       1458644 non-null  int64  \n",
      "dtypes: float64(4), int64(3), object(4)\n",
      "memory usage: 122.4+ MB\n"
     ]
    }
   ],
   "source": [
    "nyc_data.info()"
   ]
  },
  {
   "cell_type": "code",
   "execution_count": 7,
   "id": "1b92c030",
   "metadata": {
    "execution": {
     "iopub.execute_input": "2022-10-13T08:38:08.502717Z",
     "iopub.status.busy": "2022-10-13T08:38:08.502327Z",
     "iopub.status.idle": "2022-10-13T08:38:10.563575Z",
     "shell.execute_reply": "2022-10-13T08:38:10.562569Z"
    },
    "papermill": {
     "duration": 2.069363,
     "end_time": "2022-10-13T08:38:10.566384",
     "exception": false,
     "start_time": "2022-10-13T08:38:08.497021",
     "status": "completed"
    },
    "tags": []
   },
   "outputs": [],
   "source": [
    "# Converting to datetime\n",
    "nyc_data['pickup_datetime'] = pd.to_datetime(nyc_data['pickup_datetime'])\n",
    "nyc_data['dropoff_datetime'] = pd.to_datetime(nyc_data['dropoff_datetime'])\n",
    "\n",
    "# Extracting additional info\n",
    "nyc_data['pickup_hour'] = nyc_data['pickup_datetime'].dt.hour\n",
    "nyc_data['pickup_day'] = nyc_data['pickup_datetime'].dt.day\n",
    "nyc_data['pickup_month'] = nyc_data['pickup_datetime'].dt.month\n",
    "nyc_data['pickup_weekday'] = nyc_data['pickup_datetime'].dt.weekday\n",
    "\n",
    "\n",
    "nyc_data['drop_hour'] = nyc_data['dropoff_datetime'].dt.hour\n",
    "nyc_data['drop_day'] = nyc_data['dropoff_datetime'].dt.day\n",
    "nyc_data['drop_month'] = nyc_data['dropoff_datetime'].dt.month\n",
    "nyc_data['drop_weekday'] = nyc_data['dropoff_datetime'].dt.weekday"
   ]
  },
  {
   "cell_type": "markdown",
   "id": "aba2ab19",
   "metadata": {
    "papermill": {
     "duration": 0.003748,
     "end_time": "2022-10-13T08:38:10.574275",
     "exception": false,
     "start_time": "2022-10-13T08:38:10.570527",
     "status": "completed"
    },
    "tags": []
   },
   "source": [
    "we dont care about the minuts or secondes"
   ]
  },
  {
   "cell_type": "code",
   "execution_count": 8,
   "id": "075a296c",
   "metadata": {
    "execution": {
     "iopub.execute_input": "2022-10-13T08:38:10.583823Z",
     "iopub.status.busy": "2022-10-13T08:38:10.583438Z",
     "iopub.status.idle": "2022-10-13T08:38:11.139952Z",
     "shell.execute_reply": "2022-10-13T08:38:11.138830Z"
    },
    "papermill": {
     "duration": 0.564208,
     "end_time": "2022-10-13T08:38:11.142491",
     "exception": false,
     "start_time": "2022-10-13T08:38:10.578283",
     "status": "completed"
    },
    "tags": []
   },
   "outputs": [
    {
     "data": {
      "image/png": "[encoded data removed]",
      "text/plain": [
       "<Figure size 1440x360 with 1 Axes>"
      ]
     },
     "metadata": {
      "needs_background": "light"
     },
     "output_type": "display_data"
    }
   ],
   "source": [
    "f = plt.figure(figsize=(20,5))\n",
    "sns.countplot(x='pickup_day', data=nyc_data)\n",
    "plt.xlabel('Day of month', fontsize=16)\n",
    "plt.ylabel('Pickup count', fontsize=16)\n",
    "plt.show()"
   ]
  },
  {
   "cell_type": "code",
   "execution_count": 9,
   "id": "fffef638",
   "metadata": {
    "execution": {
     "iopub.execute_input": "2022-10-13T08:38:11.153622Z",
     "iopub.status.busy": "2022-10-13T08:38:11.152829Z",
     "iopub.status.idle": "2022-10-13T08:38:11.469017Z",
     "shell.execute_reply": "2022-10-13T08:38:11.467873Z"
    },
    "papermill": {
     "duration": 0.324395,
     "end_time": "2022-10-13T08:38:11.471568",
     "exception": false,
     "start_time": "2022-10-13T08:38:11.147173",
     "status": "completed"
    },
    "tags": []
   },
   "outputs": [
    {
     "data": {
      "text/plain": [
       "<function matplotlib.pyplot.show(close=None, block=None)>"
      ]
     },
     "execution_count": 9,
     "metadata": {},
     "output_type": "execute_result"
    },
    {
     "data": {
      "image/png": "[encoded data removed]",
      "text/plain": [
       "<Figure size 1440x360 with 1 Axes>"
      ]
     },
     "metadata": {
      "needs_background": "light"
     },
     "output_type": "display_data"
    }
   ],
   "source": [
    "f = plt.figure(figsize=(20,5))\n",
    "sns.countplot(x='pickup_month', data=nyc_data)\n",
    "plt.xlabel('Month', fontsize=16 )\n",
    "plt.ylabel('Pickup count', fontsize=16)\n",
    "plt.show"
   ]
  }
 ],
 "metadata": {
  "kernelspec": {
   "display_name": "Python 3",
   "language": "python",
   "name": "python3"
  },
  "language_info": {
   "codemirror_mode": {
    "name": "ipython",
    "version": 3
   },
   "file_extension": ".py",
   "mimetype": "text/x-python",
   "name": "python",
   "nbconvert_exporter": "python",
   "pygments_lexer": "ipython3",
   "version": "3.7.12"
  },
  "papermill": {
   "default_parameters": {},
   "duration": 23.429742,
   "end_time": "2022-10-13T08:38:12.402107",
   "environment_variables": {},
   "exception": null,
   "input_path": "__notebook__.ipynb",
   "output_path": "__notebook__.ipynb",
   "parameters": {},
   "start_time": "2022-10-13T08:37:48.972365",
   "version": "2.3.4"
  }
 },
 "nbformat": 4,
 "nbformat_minor": 5
}
