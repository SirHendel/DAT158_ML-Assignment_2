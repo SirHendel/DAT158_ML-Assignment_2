{
 "cells": [
  {
   "cell_type": "code",
   "execution_count": 1,
   "id": "8aa4f428",
   "metadata": {
    "_cell_guid": "b1076dfc-b9ad-4769-8c92-a6c4dae69d19",
    "_uuid": "8f2839f25d086af736a60e9eeb907d3b93b6e0e5",
    "execution": {
     "iopub.execute_input": "2022-10-13T09:02:46.856612Z",
     "iopub.status.busy": "2022-10-13T09:02:46.855511Z",
     "iopub.status.idle": "2022-10-13T09:02:47.866245Z",
     "shell.execute_reply": "2022-10-13T09:02:47.864248Z"
    },
    "papermill": {
     "duration": 1.021256,
     "end_time": "2022-10-13T09:02:47.868899",
     "exception": false,
     "start_time": "2022-10-13T09:02:46.847643",
     "status": "completed"
    },
    "tags": []
   },
   "outputs": [
    {
     "name": "stdout",
     "output_type": "stream",
     "text": [
      "/kaggle/input/nyc-taxi-trip-duration/train.zip\n",
      "/kaggle/input/nyc-taxi-trip-duration/test.zip\n",
      "/kaggle/input/nyc-taxi-trip-duration/sample_submission.zip\n"
     ]
    }
   ],
   "source": [
    "# This Python 3 environment comes with many helpful analytics libraries installed\n",
    "# It is defined by the kaggle/python Docker image: https://github.com/kaggle/docker-python\n",
    "# For example, here's several helpful packages to load\n",
    "\n",
    "import numpy as np # linear algebra\n",
    "import pandas as pd # data processing, CSV file I/O (e.g. pd.read_csv)\n",
    "import matplotlib.pyplot as plt\n",
    "import seaborn as sns\n",
    "%matplotlib inline\n",
    "import zipfile\n",
    "\n",
    "# Input data files are available in the read-only \"../input/\" directory\n",
    "# For example, running this (by clicking run or pressing Shift+Enter) will list all files under the input directory\n",
    "\n",
    "import os\n",
    "for dirname, _, filenames in os.walk('/kaggle/input'):\n",
    "    for filename in filenames:\n",
    "        print(os.path.join(dirname, filename))\n",
    "\n",
    "# You can write up to 20GB to the current directory (/kaggle/working/) that gets preserved as output when you create a version using \"Save & Run All\" \n",
    "# You can also write temporary files to /kaggle/temp/, but they won't be saved outside of the current session"
   ]
  },
  {
   "cell_type": "code",
   "execution_count": 2,
   "id": "de62645e",
   "metadata": {
    "execution": {
     "iopub.execute_input": "2022-10-13T09:02:47.880334Z",
     "iopub.status.busy": "2022-10-13T09:02:47.879956Z",
     "iopub.status.idle": "2022-10-13T09:02:57.483153Z",
     "shell.execute_reply": "2022-10-13T09:02:57.482163Z"
    },
    "papermill": {
     "duration": 9.611358,
     "end_time": "2022-10-13T09:02:57.485844",
     "exception": false,
     "start_time": "2022-10-13T09:02:47.874486",
     "status": "completed"
    },
    "tags": []
   },
   "outputs": [],
   "source": [
    "zf_train = zipfile.ZipFile('../input/nyc-taxi-trip-duration/train.zip')\n",
    "nyc_data = pd.read_csv(zf_train.open('train.csv'))\n",
    "\n",
    "zf_test = zipfile.ZipFile('../input/nyc-taxi-trip-duration/test.zip')\n",
    "test = pd.read_csv(zf_test.open('test.csv'))"
   ]
  },
  {
   "cell_type": "code",
   "execution_count": 3,
   "id": "3ecdeeeb",
   "metadata": {
    "execution": {
     "iopub.execute_input": "2022-10-13T09:02:57.496501Z",
     "iopub.status.busy": "2022-10-13T09:02:57.495707Z",
     "iopub.status.idle": "2022-10-13T09:02:57.504985Z",
     "shell.execute_reply": "2022-10-13T09:02:57.502943Z"
    },
    "papermill": {
     "duration": 0.017021,
     "end_time": "2022-10-13T09:02:57.507386",
     "exception": false,
     "start_time": "2022-10-13T09:02:57.490365",
     "status": "completed"
    },
    "tags": []
   },
   "outputs": [
    {
     "data": {
      "text/plain": [
       "(1458644, 11)"
      ]
     },
     "execution_count": 3,
     "metadata": {},
     "output_type": "execute_result"
    }
   ],
   "source": [
    "nyc_data.shape"
   ]
  },
  {
   "cell_type": "code",
   "execution_count": 4,
   "id": "0ae8e63f",
   "metadata": {
    "execution": {
     "iopub.execute_input": "2022-10-13T09:02:57.518168Z",
     "iopub.status.busy": "2022-10-13T09:02:57.517599Z",
     "iopub.status.idle": "2022-10-13T09:02:57.538996Z",
     "shell.execute_reply": "2022-10-13T09:02:57.537838Z"
    },
    "papermill": {
     "duration": 0.029505,
     "end_time": "2022-10-13T09:02:57.541320",
     "exception": false,
     "start_time": "2022-10-13T09:02:57.511815",
     "status": "completed"
    },
    "tags": []
   },
   "outputs": [
    {
     "data": {
      "text/html": [
       "<div>\n",
       "<style scoped>\n",
       "    .dataframe tbody tr th:only-of-type {\n",
       "        vertical-align: middle;\n",
       "    }\n",
       "\n",
       "    .dataframe tbody tr th {\n",
       "        vertical-align: top;\n",
       "    }\n",
       "\n",
       "    .dataframe thead th {\n",
       "        text-align: right;\n",
       "    }\n",
       "</style>\n",
       "<table border=\"1\" class=\"dataframe\">\n",
       "  <thead>\n",
       "    <tr style=\"text-align: right;\">\n",
       "      <th></th>\n",
       "      <th>id</th>\n",
       "      <th>vendor_id</th>\n",
       "      <th>pickup_datetime</th>\n",
       "      <th>dropoff_datetime</th>\n",
       "      <th>passenger_count</th>\n",
       "      <th>pickup_longitude</th>\n",
       "      <th>pickup_latitude</th>\n",
       "      <th>dropoff_longitude</th>\n",
       "      <th>dropoff_latitude</th>\n",
       "      <th>store_and_fwd_flag</th>\n",
       "      <th>trip_duration</th>\n",
       "    </tr>\n",
       "  </thead>\n",
       "  <tbody>\n",
       "    <tr>\n",
       "      <th>0</th>\n",
       "      <td>id2875421</td>\n",
       "      <td>2</td>\n",
       "      <td>2016-03-14 17:24:55</td>\n",
       "      <td>2016-03-14 17:32:30</td>\n",
       "      <td>1</td>\n",
       "      <td>-73.982155</td>\n",
       "      <td>40.767937</td>\n",
       "      <td>-73.964630</td>\n",
       "      <td>40.765602</td>\n",
       "      <td>N</td>\n",
       "      <td>455</td>\n",
       "    </tr>\n",
       "    <tr>\n",
       "      <th>1</th>\n",
       "      <td>id2377394</td>\n",
       "      <td>1</td>\n",
       "      <td>2016-06-12 00:43:35</td>\n",
       "      <td>2016-06-12 00:54:38</td>\n",
       "      <td>1</td>\n",
       "      <td>-73.980415</td>\n",
       "      <td>40.738564</td>\n",
       "      <td>-73.999481</td>\n",
       "      <td>40.731152</td>\n",
       "      <td>N</td>\n",
       "      <td>663</td>\n",
       "    </tr>\n",
       "    <tr>\n",
       "      <th>2</th>\n",
       "      <td>id3858529</td>\n",
       "      <td>2</td>\n",
       "      <td>2016-01-19 11:35:24</td>\n",
       "      <td>2016-01-19 12:10:48</td>\n",
       "      <td>1</td>\n",
       "      <td>-73.979027</td>\n",
       "      <td>40.763939</td>\n",
       "      <td>-74.005333</td>\n",
       "      <td>40.710087</td>\n",
       "      <td>N</td>\n",
       "      <td>2124</td>\n",
       "    </tr>\n",
       "    <tr>\n",
       "      <th>3</th>\n",
       "      <td>id3504673</td>\n",
       "      <td>2</td>\n",
       "      <td>2016-04-06 19:32:31</td>\n",
       "      <td>2016-04-06 19:39:40</td>\n",
       "      <td>1</td>\n",
       "      <td>-74.010040</td>\n",
       "      <td>40.719971</td>\n",
       "      <td>-74.012268</td>\n",
       "      <td>40.706718</td>\n",
       "      <td>N</td>\n",
       "      <td>429</td>\n",
       "    </tr>\n",
       "    <tr>\n",
       "      <th>4</th>\n",
       "      <td>id2181028</td>\n",
       "      <td>2</td>\n",
       "      <td>2016-03-26 13:30:55</td>\n",
       "      <td>2016-03-26 13:38:10</td>\n",
       "      <td>1</td>\n",
       "      <td>-73.973053</td>\n",
       "      <td>40.793209</td>\n",
       "      <td>-73.972923</td>\n",
       "      <td>40.782520</td>\n",
       "      <td>N</td>\n",
       "      <td>435</td>\n",
       "    </tr>\n",
       "  </tbody>\n",
       "</table>\n",
       "</div>"
      ],
      "text/plain": [
       "          id  vendor_id      pickup_datetime     dropoff_datetime  \\\n",
       "0  id2875421          2  2016-03-14 17:24:55  2016-03-14 17:32:30   \n",
       "1  id2377394          1  2016-06-12 00:43:35  2016-06-12 00:54:38   \n",
       "2  id3858529          2  2016-01-19 11:35:24  2016-01-19 12:10:48   \n",
       "3  id3504673          2  2016-04-06 19:32:31  2016-04-06 19:39:40   \n",
       "4  id2181028          2  2016-03-26 13:30:55  2016-03-26 13:38:10   \n",
       "\n",
       "   passenger_count  pickup_longitude  pickup_latitude  dropoff_longitude  \\\n",
       "0                1        -73.982155        40.767937         -73.964630   \n",
       "1                1        -73.980415        40.738564         -73.999481   \n",
       "2                1        -73.979027        40.763939         -74.005333   \n",
       "3                1        -74.010040        40.719971         -74.012268   \n",
       "4                1        -73.973053        40.793209         -73.972923   \n",
       "\n",
       "   dropoff_latitude store_and_fwd_flag  trip_duration  \n",
       "0         40.765602                  N            455  \n",
       "1         40.731152                  N            663  \n",
       "2         40.710087                  N           2124  \n",
       "3         40.706718                  N            429  \n",
       "4         40.782520                  N            435  "
      ]
     },
     "execution_count": 4,
     "metadata": {},
     "output_type": "execute_result"
    }
   ],
   "source": [
    "nyc_data.head(5)"
   ]
  },
  {
   "cell_type": "code",
   "execution_count": 5,
   "id": "41379d96",
   "metadata": {
    "execution": {
     "iopub.execute_input": "2022-10-13T09:02:57.552383Z",
     "iopub.status.busy": "2022-10-13T09:02:57.552017Z",
     "iopub.status.idle": "2022-10-13T09:02:57.559022Z",
     "shell.execute_reply": "2022-10-13T09:02:57.557940Z"
    },
    "papermill": {
     "duration": 0.015045,
     "end_time": "2022-10-13T09:02:57.561252",
     "exception": false,
     "start_time": "2022-10-13T09:02:57.546207",
     "status": "completed"
    },
    "tags": []
   },
   "outputs": [
    {
     "data": {
      "text/plain": [
       "Index(['id', 'vendor_id', 'pickup_datetime', 'dropoff_datetime',\n",
       "       'passenger_count', 'pickup_longitude', 'pickup_latitude',\n",
       "       'dropoff_longitude', 'dropoff_latitude', 'store_and_fwd_flag',\n",
       "       'trip_duration'],\n",
       "      dtype='object')"
      ]
     },
     "execution_count": 5,
     "metadata": {},
     "output_type": "execute_result"
    }
   ],
   "source": [
    "nyc_data.columns"
   ]
  },
  {
   "cell_type": "code",
   "execution_count": 6,
   "id": "f534d9f3",
   "metadata": {
    "execution": {
     "iopub.execute_input": "2022-10-13T09:02:57.573442Z",
     "iopub.status.busy": "2022-10-13T09:02:57.572260Z",
     "iopub.status.idle": "2022-10-13T09:02:57.857134Z",
     "shell.execute_reply": "2022-10-13T09:02:57.855717Z"
    },
    "papermill": {
     "duration": 0.294193,
     "end_time": "2022-10-13T09:02:57.860225",
     "exception": false,
     "start_time": "2022-10-13T09:02:57.566032",
     "status": "completed"
    },
    "tags": []
   },
   "outputs": [
    {
     "name": "stdout",
     "output_type": "stream",
     "text": [
      "<class 'pandas.core.frame.DataFrame'>\n",
      "RangeIndex: 1458644 entries, 0 to 1458643\n",
      "Data columns (total 11 columns):\n",
      " #   Column              Non-Null Count    Dtype  \n",
      "---  ------              --------------    -----  \n",
      " 0   id                  1458644 non-null  object \n",
      " 1   vendor_id           1458644 non-null  int64  \n",
      " 2   pickup_datetime     1458644 non-null  object \n",
      " 3   dropoff_datetime    1458644 non-null  object \n",
      " 4   passenger_count     1458644 non-null  int64  \n",
      " 5   pickup_longitude    1458644 non-null  float64\n",
      " 6   pickup_latitude     1458644 non-null  float64\n",
      " 7   dropoff_longitude   1458644 non-null  float64\n",
      " 8   dropoff_latitude    1458644 non-null  float64\n",
      " 9   store_and_fwd_flag  1458644 non-null  object \n",
      " 10  trip_duration       1458644 non-null  int64  \n",
      "dtypes: float64(4), int64(3), object(4)\n",
      "memory usage: 122.4+ MB\n"
     ]
    }
   ],
   "source": [
    "nyc_data.info()"
   ]
  },
  {
   "cell_type": "code",
   "execution_count": 7,
   "id": "c30b1ed7",
   "metadata": {
    "execution": {
     "iopub.execute_input": "2022-10-13T09:02:57.872533Z",
     "iopub.status.busy": "2022-10-13T09:02:57.871711Z",
     "iopub.status.idle": "2022-10-13T09:02:59.869460Z",
     "shell.execute_reply": "2022-10-13T09:02:59.868374Z"
    },
    "papermill": {
     "duration": 2.006879,
     "end_time": "2022-10-13T09:02:59.872356",
     "exception": false,
     "start_time": "2022-10-13T09:02:57.865477",
     "status": "completed"
    },
    "tags": []
   },
   "outputs": [],
   "source": [
    "# Converting to datetime\n",
    "nyc_data['pickup_datetime'] = pd.to_datetime(nyc_data['pickup_datetime'])\n",
    "nyc_data['dropoff_datetime'] = pd.to_datetime(nyc_data['dropoff_datetime'])\n",
    "\n",
    "# Extracting additional info\n",
    "nyc_data['pickup_hour'] = nyc_data['pickup_datetime'].dt.hour\n",
    "nyc_data['pickup_day'] = nyc_data['pickup_datetime'].dt.day\n",
    "nyc_data['pickup_month'] = nyc_data['pickup_datetime'].dt.month\n",
    "nyc_data['pickup_weekday'] = nyc_data['pickup_datetime'].dt.weekday\n",
    "\n",
    "\n",
    "nyc_data['drop_hour'] = nyc_data['dropoff_datetime'].dt.hour\n",
    "nyc_data['drop_day'] = nyc_data['dropoff_datetime'].dt.day\n",
    "nyc_data['drop_month'] = nyc_data['dropoff_datetime'].dt.month\n",
    "nyc_data['drop_weekday'] = nyc_data['dropoff_datetime'].dt.weekday"
   ]
  },
  {
   "cell_type": "markdown",
   "id": "37c62b42",
   "metadata": {
    "papermill": {
     "duration": 0.004741,
     "end_time": "2022-10-13T09:02:59.882306",
     "exception": false,
     "start_time": "2022-10-13T09:02:59.877565",
     "status": "completed"
    },
    "tags": []
   },
   "source": [
    "we dont care about the minuts or secondes"
   ]
  },
  {
   "cell_type": "code",
   "execution_count": 8,
   "id": "e54ca00a",
   "metadata": {
    "execution": {
     "iopub.execute_input": "2022-10-13T09:02:59.894713Z",
     "iopub.status.busy": "2022-10-13T09:02:59.894260Z",
     "iopub.status.idle": "2022-10-13T09:03:00.481819Z",
     "shell.execute_reply": "2022-10-13T09:03:00.480868Z"
    },
    "papermill": {
     "duration": 0.596194,
     "end_time": "2022-10-13T09:03:00.483973",
     "exception": false,
     "start_time": "2022-10-13T09:02:59.887779",
     "status": "completed"
    },
    "tags": []
   },
   "outputs": [
    {
     "data": {
      "image/png": "[encoded data removed]",
      "text/plain": [
       "<Figure size 1440x360 with 1 Axes>"
      ]
     },
     "metadata": {
      "needs_background": "light"
     },
     "output_type": "display_data"
    }
   ],
   "source": [
    "f = plt.figure(figsize=(20,5))\n",
    "sns.countplot(x='pickup_day', data=nyc_data)\n",
    "plt.xlabel('Day of month', fontsize=16)\n",
    "plt.ylabel('Pickup count', fontsize=16)\n",
    "plt.show()"
   ]
  },
  {
   "cell_type": "code",
   "execution_count": 9,
   "id": "3135c72c",
   "metadata": {
    "execution": {
     "iopub.execute_input": "2022-10-13T09:03:00.497025Z",
     "iopub.status.busy": "2022-10-13T09:03:00.495946Z",
     "iopub.status.idle": "2022-10-13T09:03:00.840806Z",
     "shell.execute_reply": "2022-10-13T09:03:00.839548Z"
    },
    "papermill": {
     "duration": 0.353998,
     "end_time": "2022-10-13T09:03:00.843436",
     "exception": false,
     "start_time": "2022-10-13T09:03:00.489438",
     "status": "completed"
    },
    "tags": []
   },
   "outputs": [
    {
     "data": {
      "text/plain": [
       "<function matplotlib.pyplot.show(close=None, block=None)>"
      ]
     },
     "execution_count": 9,
     "metadata": {},
     "output_type": "execute_result"
    },
    {
     "data": {
      "image/png": "[encoded data removed]",
      "text/plain": [
       "<Figure size 1440x360 with 1 Axes>"
      ]
     },
     "metadata": {
      "needs_background": "light"
     },
     "output_type": "display_data"
    }
   ],
   "source": [
    "f = plt.figure(figsize=(20,5))\n",
    "sns.countplot(x='pickup_month', data=nyc_data)\n",
    "plt.xlabel('Month', fontsize=16 )\n",
    "plt.ylabel('Pickup count', fontsize=16)\n",
    "plt.show"
   ]
  },
  {
   "cell_type": "code",
   "execution_count": 10,
   "id": "3f52c578",
   "metadata": {
    "execution": {
     "iopub.execute_input": "2022-10-13T09:03:00.857915Z",
     "iopub.status.busy": "2022-10-13T09:03:00.857489Z",
     "iopub.status.idle": "2022-10-13T09:03:01.199714Z",
     "shell.execute_reply": "2022-10-13T09:03:01.198482Z"
    },
    "papermill": {
     "duration": 0.354184,
     "end_time": "2022-10-13T09:03:01.204049",
     "exception": false,
     "start_time": "2022-10-13T09:03:00.849865",
     "status": "completed"
    },
    "tags": []
   },
   "outputs": [
    {
     "data": {
      "image/png": "[encoded data removed]",
      "text/plain": [
       "<Figure size 1440x360 with 1 Axes>"
      ]
     },
     "metadata": {
      "needs_background": "light"
     },
     "output_type": "display_data"
    }
   ],
   "source": [
    "# Distribution of pickups over the day of week\n",
    "f = plt.figure(figsize=(20,5))\n",
    "sns.countplot(x='pickup_weekday', data=nyc_data)\n",
    "plt.xlabel('Weekday', fontsize=16)\n",
    "plt.ylabel('Pickup count', fontsize=16)\n",
    "plt.show()"
   ]
  },
  {
   "cell_type": "code",
   "execution_count": 11,
   "id": "b97efbd3",
   "metadata": {
    "execution": {
     "iopub.execute_input": "2022-10-13T09:03:01.217603Z",
     "iopub.status.busy": "2022-10-13T09:03:01.217198Z",
     "iopub.status.idle": "2022-10-13T09:03:01.701148Z",
     "shell.execute_reply": "2022-10-13T09:03:01.700002Z"
    },
    "papermill": {
     "duration": 0.493694,
     "end_time": "2022-10-13T09:03:01.703832",
     "exception": false,
     "start_time": "2022-10-13T09:03:01.210138",
     "status": "completed"
    },
    "tags": []
   },
   "outputs": [
    {
     "data": {
      "image/png": "[encoded data removed]",
      "text/plain": [
       "<Figure size 1440x360 with 1 Axes>"
      ]
     },
     "metadata": {
      "needs_background": "light"
     },
     "output_type": "display_data"
    }
   ],
   "source": [
    "# Distribution of pickups over the day of week\n",
    "f = plt.figure(figsize=(20,5))\n",
    "sns.countplot(x='pickup_hour', data=nyc_data)\n",
    "plt.xlabel('Hour', fontsize=16)\n",
    "plt.ylabel('Pickup count', fontsize=16)\n",
    "plt.show()"
   ]
  },
  {
   "cell_type": "code",
   "execution_count": 12,
   "id": "afe1d768",
   "metadata": {
    "execution": {
     "iopub.execute_input": "2022-10-13T09:03:01.718075Z",
     "iopub.status.busy": "2022-10-13T09:03:01.717684Z",
     "iopub.status.idle": "2022-10-13T09:03:02.204280Z",
     "shell.execute_reply": "2022-10-13T09:03:02.203177Z"
    },
    "papermill": {
     "duration": 0.496773,
     "end_time": "2022-10-13T09:03:02.206915",
     "exception": false,
     "start_time": "2022-10-13T09:03:01.710142",
     "status": "completed"
    },
    "tags": []
   },
   "outputs": [
    {
     "data": {
      "image/png": "[encoded data removed]",
      "text/plain": [
       "<Figure size 1440x360 with 1 Axes>"
      ]
     },
     "metadata": {
      "needs_background": "light"
     },
     "output_type": "display_data"
    }
   ],
   "source": [
    "f = plt.figure(figsize=(20,5))\n",
    "sns.countplot(x='pickup_hour', data=nyc_data)\n",
    "plt.xlabel('Hour', fontsize=16)\n",
    "plt.ylabel('Pickup count', fontsize=16)\n",
    "plt.show()"
   ]
  },
  {
   "cell_type": "code",
   "execution_count": 13,
   "id": "ce11ae11",
   "metadata": {
    "execution": {
     "iopub.execute_input": "2022-10-13T09:03:02.221763Z",
     "iopub.status.busy": "2022-10-13T09:03:02.221343Z",
     "iopub.status.idle": "2022-10-13T09:03:08.039232Z",
     "shell.execute_reply": "2022-10-13T09:03:08.038263Z"
    },
    "papermill": {
     "duration": 5.828664,
     "end_time": "2022-10-13T09:03:08.042109",
     "exception": false,
     "start_time": "2022-10-13T09:03:02.213445",
     "status": "completed"
    },
    "tags": []
   },
   "outputs": [],
   "source": [
    "# Exploring pickup and dropoff - longitude and latitude\n",
    "\n",
    "nyc_data['pickup_latitude_round'] = nyc_data['pickup_latitude'].apply(lambda x : round(x, 2))\n",
    "nyc_data['pickup_longitude_round'] = nyc_data['pickup_longitude'].apply(lambda x : round(x, 2))\n",
    "\n",
    "nyc_data['dropoff_latitude_round'] = nyc_data['dropoff_latitude'].apply(lambda x : round(x, 2))\n",
    "nyc_data['dropoff_longitude_round'] = nyc_data['pickup_longitude'].apply(lambda x : round(x, 2))\n",
    "\n",
    "pickup = nyc_data.groupby(['pickup_latitude_round','pickup_longitude_round'])['id'].count().reset_index().rename(columns={'id':'Num_Trips'})\n",
    "dropoff = nyc_data.groupby(['dropoff_latitude_round','dropoff_longitude_round'])['id'].count().reset_index().rename(columns={'id':'Num_Trips'})"
   ]
  },
  {
   "cell_type": "code",
   "execution_count": 14,
   "id": "0c7b5476",
   "metadata": {
    "execution": {
     "iopub.execute_input": "2022-10-13T09:03:08.058233Z",
     "iopub.status.busy": "2022-10-13T09:03:08.057851Z",
     "iopub.status.idle": "2022-10-13T09:03:08.464216Z",
     "shell.execute_reply": "2022-10-13T09:03:08.463123Z"
    },
    "papermill": {
     "duration": 0.418067,
     "end_time": "2022-10-13T09:03:08.467021",
     "exception": false,
     "start_time": "2022-10-13T09:03:08.048954",
     "status": "completed"
    },
    "tags": []
   },
   "outputs": [
    {
     "data": {
      "text/html": [
       "<div style=\"width:100%;\"><div style=\"position:relative;width:100%;height:0;padding-bottom:60%;\"><span style=\"color:#565656\">Make this Notebook Trusted to load map: File -> Trust Notebook</span><iframe srcdoc=\"&lt;!DOCTYPE html&gt;\n",
       "&lt;head&gt;    \n",
       "    &lt;meta http-equiv=&quot;content-type&quot; content=&quot;text/html; charset=UTF-8&quot; /&gt;\n",
       "    \n",
       "        &lt;script&gt;\n",
       "            L_NO_TOUCH = false;\n",
       "            L_DISABLE_3D = false;\n",
       "        &lt;/script&gt;\n",
       "    \n",
       "    &lt;style&gt;html, body {width: 100%;height: 100%;margin: 0;padding: 0;}&lt;/style&gt;\n",
       "    &lt;style&gt;#map {position:absolute;top:0;bottom:0;right:0;left:0;}&lt;/style&gt;\n",
       "    &lt;script src=&quot;https://cdn.jsdelivr.net/npm/leaflet@1.6.0/dist/leaflet.js&quot;&gt;&lt;/script&gt;\n",
       "    &lt;script src=&quot;https://code.jquery.com/jquery-1.12.4.min.js&quot;&gt;&lt;/script&gt;\n",
       "    &lt;script src=&quot;https://maxcdn.bootstrapcdn.com/bootstrap/3.2.0/js/bootstrap.min.js&quot;&gt;&lt;/script&gt;\n",
       "    &lt;script src=&quot;https://cdnjs.cloudflare.com/ajax/libs/Leaflet.awesome-markers/2.0.2/leaflet.awesome-markers.js&quot;&gt;&lt;/script&gt;\n",
       "    &lt;link rel=&quot;stylesheet&quot; href=&quot;https://cdn.jsdelivr.net/npm/leaflet@1.6.0/dist/leaflet.css&quot;/&gt;\n",
       "    &lt;link rel=&quot;stylesheet&quot; href=&quot;https://maxcdn.bootstrapcdn.com/bootstrap/3.2.0/css/bootstrap.min.css&quot;/&gt;\n",
       "    &lt;link rel=&quot;stylesheet&quot; href=&quot;https://maxcdn.bootstrapcdn.com/bootstrap/3.2.0/css/bootstrap-theme.min.css&quot;/&gt;\n",
       "    &lt;link rel=&quot;stylesheet&quot; href=&quot;https://maxcdn.bootstrapcdn.com/font-awesome/4.6.3/css/font-awesome.min.css&quot;/&gt;\n",
       "    &lt;link rel=&quot;stylesheet&quot; href=&quot;https://cdnjs.cloudflare.com/ajax/libs/Leaflet.awesome-markers/2.0.2/leaflet.awesome-markers.css&quot;/&gt;\n",
       "    &lt;link rel=&quot;stylesheet&quot; href=&quot;https://cdn.jsdelivr.net/gh/python-visualization/folium/folium/templates/leaflet.awesome.rotate.min.css&quot;/&gt;\n",
       "    \n",
       "            &lt;meta name=&quot;viewport&quot; content=&quot;width=device-width,\n",
       "                initial-scale=1.0, maximum-scale=1.0, user-scalable=no&quot; /&gt;\n",
       "            &lt;style&gt;\n",
       "                #map_d7522c338afd986c51c5bf421aeac842 {\n",
       "                    position: relative;\n",
       "                    width: 100.0%;\n",
       "                    height: 100.0%;\n",
       "                    left: 0.0%;\n",
       "                    top: 0.0%;\n",
       "                }\n",
       "            &lt;/style&gt;\n",
       "        \n",
       "    &lt;script src=&quot;https://cdn.jsdelivr.net/gh/python-visualization/folium@master/folium/templates/leaflet_heat.min.js&quot;&gt;&lt;/script&gt;\n",
       "&lt;/head&gt;\n",
       "&lt;body&gt;    \n",
       "    \n",
       "            &lt;div class=&quot;folium-map&quot; id=&quot;map_d7522c338afd986c51c5bf421aeac842&quot; &gt;&lt;/div&gt;\n",
       "        \n",
       "&lt;/body&gt;\n",
       "&lt;script&gt;    \n",
       "    \n",
       "            var map_d7522c338afd986c51c5bf421aeac842 = L.map(\n",
       "                &quot;map_d7522c338afd986c51c5bf421aeac842&quot;,\n",
       "                {\n",
       "                    center: [40.73061, -73.935242],\n",
       "                    crs: L.CRS.EPSG3857,\n",
       "                    zoom: 10,\n",
       "                    zoomControl: true,\n",
       "                    preferCanvas: false,\n",
       "                }\n",
       "            );\n",
       "\n",
       "            \n",
       "\n",
       "        \n",
       "    \n",
       "            var tile_layer_ce2a8e1b5006ab50e0d9068922a5e819 = L.tileLayer(\n",
       "                &quot;https://{s}.tile.openstreetmap.org/{z}/{x}/{y}.png&quot;,\n",
       "                {&quot;attribution&quot;: &quot;Data by \\u0026copy; \\u003ca href=\\&quot;http://openstreetmap.org\\&quot;\\u003eOpenStreetMap\\u003c/a\\u003e, under \\u003ca href=\\&quot;http://www.openstreetmap.org/copyright\\&quot;\\u003eODbL\\u003c/a\\u003e.&quot;, &quot;detectRetina&quot;: false, &quot;maxNativeZoom&quot;: 18, &quot;maxZoom&quot;: 18, &quot;minZoom&quot;: 0, &quot;noWrap&quot;: false, &quot;opacity&quot;: 1, &quot;subdomains&quot;: &quot;abc&quot;, &quot;tms&quot;: false}\n",
       "            ).addTo(map_d7522c338afd986c51c5bf421aeac842);\n",
       "        \n",
       "    \n",
       "            var heat_map_c58b6c8bebcba8f1f96bf13f23e2bbe3 = L.heatLayer(\n",
       "                [[34.36, -65.85, 1.0], [34.71, -75.35, 1.0], [35.08, -71.8, 1.0], [35.31, -72.07, 1.0], [36.03, -77.44, 1.0], [36.12, -68.78, 1.0], [37.39, -121.93, 2.0], [37.78, -77.9, 1.0], [37.85, -61.34, 1.0], [38.9, -77.04, 4.0], [38.95, -76.96, 1.0], [39.44, -75.52, 1.0], [39.46, -65.9, 1.0], [39.8, -75.46, 1.0], [39.92, -75.24, 1.0], [40.1, -74.73, 1.0], [40.21, -73.68, 1.0], [40.23, -74.08, 1.0], [40.28, -74.71, 1.0], [40.3, -74.0, 2.0], [40.32, -73.35, 1.0], [40.36, -74.61, 1.0], [40.39, -74.58, 1.0], [40.4, -74.1, 1.0], [40.41, -74.08, 1.0], [40.43, -74.3, 1.0], [40.43, -74.07, 1.0], [40.44, -74.52, 1.0], [40.44, -74.07, 1.0], [40.45, -74.32, 1.0], [40.45, -74.08, 1.0], [40.45, -74.05, 1.0], [40.46, -74.05, 1.0], [40.47, -74.25, 1.0], [40.5, -74.45, 1.0], [40.5, -74.44, 1.0], [40.5, -74.15, 1.0], [40.51, -73.81, 1.0], [40.52, -74.18, 1.0], [40.52, -74.02, 1.0], [40.52, -73.75, 1.0], [40.53, -74.42, 1.0], [40.53, -74.36, 1.0], [40.53, -74.32, 1.0], [40.53, -74.01, 1.0], [40.53, -74.0, 1.0], [40.53, -73.99, 1.0], [40.53, -73.75, 1.0], [40.54, -73.98, 1.0], [40.54, -73.94, 1.0], [40.54, -73.82, 1.0], [40.55, -74.35, 1.0], [40.55, -74.2, 1.0], [40.55, -74.14, 1.0], [40.55, -74.0, 3.0], [40.55, -73.84, 1.0], [40.56, -74.13, 1.0], [40.57, -74.35, 1.0], [40.57, -74.33, 1.0], [40.57, -74.0, 1.0], [40.57, -73.97, 2.0], [40.57, -73.84, 1.0], [40.58, -74.33, 1.0], [40.58, -74.29, 1.0], [40.58, -74.23, 2.0], [40.58, -74.0, 1.0], [40.58, -73.99, 1.0], [40.58, -73.98, 7.0], [40.58, -73.97, 5.0], [40.58, -73.96, 8.0], [40.58, -73.95, 4.0], [40.58, -73.87, 1.0], [40.58, -73.85, 1.0], [40.58, -73.83, 1.0], [40.59, -74.23, 1.0], [40.59, -73.99, 2.0], [40.59, -73.98, 2.0], [40.59, -73.97, 2.0], [40.59, -73.96, 1.0], [40.59, -73.95, 5.0], [40.59, -73.94, 2.0], [40.59, -73.93, 3.0], [40.59, -73.79, 2.0], [40.59, -73.7, 1.0], [40.59, -73.69, 1.0], [40.59, -73.68, 1.0], [40.6, -74.12, 1.0], [40.6, -74.07, 1.0], [40.6, -74.06, 3.0], [40.6, -74.05, 3.0], [40.6, -74.03, 1.0], [40.6, -74.0, 8.0], [40.6, -73.99, 6.0], [40.6, -73.98, 4.0], [40.6, -73.97, 8.0], [40.6, -73.96, 6.0], [40.6, -73.95, 2.0], [40.6, -73.94, 5.0], [40.6, -73.9, 2.0], [40.6, -73.77, 3.0], [40.6, -73.75, 2.0], [40.6, -73.72, 1.0], [40.61, -74.09, 1.0], [40.61, -74.08, 2.0], [40.61, -74.07, 7.0], [40.61, -74.04, 1.0], [40.61, -74.03, 3.0], [40.61, -74.01, 2.0], [40.61, -74.0, 3.0], [40.61, -73.98, 4.0], [40.61, -73.97, 9.0], [40.61, -73.96, 3.0], [40.61, -73.95, 5.0], [40.61, -73.94, 1.0], [40.61, -73.92, 5.0], [40.61, -73.91, 1.0], [40.61, -73.9, 1.0], [40.61, -73.82, 1.0], [40.61, -73.77, 1.0], [40.62, -74.4, 1.0], [40.62, -74.08, 4.0], [40.62, -74.07, 2.0], [40.62, -74.04, 5.0], [40.62, -74.03, 17.0], [40.62, -74.02, 9.0], [40.62, -74.01, 2.0], [40.62, -74.0, 4.0], [40.62, -73.99, 4.0], [40.62, -73.98, 6.0], [40.62, -73.97, 19.0], [40.62, -73.96, 11.0], [40.62, -73.95, 1.0], [40.62, -73.94, 4.0], [40.62, -73.93, 9.0], [40.62, -73.92, 2.0], [40.62, -73.91, 1.0], [40.62, -73.9, 1.0], [40.62, -73.81, 2.0], [40.62, -73.77, 1.0], [40.62, -73.66, 1.0], [40.63, -74.09, 6.0], [40.63, -74.08, 2.0], [40.63, -74.04, 4.0], [40.63, -74.03, 12.0], [40.63, -74.02, 15.0], [40.63, -74.01, 10.0], [40.63, -73.98, 13.0], [40.63, -73.97, 40.0], [40.63, -73.96, 8.0], [40.63, -73.95, 12.0], [40.63, -73.94, 8.0], [40.63, -73.93, 5.0], [40.63, -73.92, 8.0], [40.63, -73.91, 6.0], [40.63, -73.9, 3.0], [40.63, -73.89, 3.0], [40.63, -73.88, 2.0], [40.63, -73.79, 1.0], [40.63, -73.78, 1.0], [40.63, -73.76, 1.0], [40.63, -73.72, 1.0], [40.63, -73.65, 1.0], [40.64, -74.15, 1.0], [40.64, -74.14, 2.0], [40.64, -74.09, 20.0], [40.64, -74.07, 1.0], [40.64, -74.04, 1.0], [40.64, -74.03, 7.0], [40.64, -74.02, 27.0], [40.64, -74.01, 7.0], [40.64, -74.0, 7.0], [40.64, -73.99, 9.0], [40.64, -73.98, 34.0], [40.64, -73.97, 80.0], [40.64, -73.96, 35.0], [40.64, -73.95, 27.0], [40.64, -73.94, 6.0], [40.64, -73.93, 4.0], [40.64, -73.92, 6.0], [40.64, -73.91, 4.0], [40.64, -73.9, 8.0], [40.64, -73.89, 3.0], [40.64, -73.88, 1.0], [40.64, -73.8, 116.0], [40.64, -73.79, 6322.0], [40.64, -73.78, 9003.0], [40.64, -73.76, 1.0], [40.64, -73.63, 1.0], [40.64, -73.55, 1.0], [40.65, -74.58, 1.0], [40.65, -74.32, 1.0], [40.65, -74.19, 1.0], [40.65, -74.02, 7.0], [40.65, -74.01, 39.0], [40.65, -74.0, 35.0], [40.65, -73.99, 2.0], [40.65, -73.98, 25.0], [40.65, -73.97, 52.0], [40.65, -73.96, 107.0], [40.65, -73.95, 30.0], [40.65, -73.94, 4.0], [40.65, -73.93, 2.0], [40.65, -73.92, 5.0], [40.65, -73.91, 5.0], [40.65, -73.9, 3.0], [40.65, -73.89, 4.0], [40.65, -73.88, 2.0], [40.65, -73.87, 2.0], [40.65, -73.84, 2.0], [40.65, -73.83, 1.0], [40.65, -73.81, 78.0], [40.65, -73.8, 229.0], [40.65, -73.79, 5946.0], [40.65, -73.78, 9915.0], [40.65, -73.73, 1.0], [40.66, -74.17, 2.0], [40.66, -74.07, 2.0], [40.66, -74.01, 7.0], [40.66, -74.0, 79.0], [40.66, -73.99, 110.0], [40.66, -73.98, 94.0], [40.66, -73.97, 8.0], [40.66, -73.96, 192.0], [40.66, -73.95, 47.0], [40.66, -73.94, 12.0], [40.66, -73.93, 24.0], [40.66, -73.92, 16.0], [40.66, -73.91, 6.0], [40.66, -73.9, 5.0], [40.66, -73.89, 12.0], [40.66, -73.88, 4.0], [40.66, -73.86, 1.0], [40.66, -73.85, 2.0], [40.66, -73.84, 1.0], [40.66, -73.82, 1.0], [40.66, -73.81, 102.0], [40.66, -73.8, 59.0], [40.66, -73.79, 264.0], [40.66, -73.77, 3.0], [40.66, -73.76, 1.0], [40.66, -73.73, 1.0], [40.66, -73.65, 2.0], [40.66, -73.61, 1.0], [40.66, -73.55, 1.0], [40.67, -74.19, 1.0], [40.67, -74.14, 1.0], [40.67, -74.1, 1.0], [40.67, -74.08, 1.0], [40.67, -74.02, 1.0], [40.67, -74.01, 9.0], [40.67, -74.0, 119.0], [40.67, -73.99, 542.0], [40.67, -73.98, 324.0], [40.67, -73.97, 117.0], [40.67, -73.96, 190.0], [40.67, -73.95, 107.0], [40.67, -73.94, 49.0], [40.67, -73.93, 47.0], [40.67, -73.92, 18.0], [40.67, -73.91, 15.0], [40.67, -73.9, 10.0], [40.67, -73.89, 5.0], [40.67, -73.88, 2.0], [40.67, -73.87, 5.0], [40.67, -73.86, 4.0], [40.67, -73.85, 2.0], [40.67, -73.84, 4.0], [40.67, -73.83, 18.0], [40.67, -73.82, 3.0], [40.67, -73.81, 14.0], [40.67, -73.8, 188.0], [40.67, -73.79, 29.0], [40.67, -73.78, 9.0], [40.67, -73.77, 5.0], [40.67, -73.76, 2.0], [40.67, -73.75, 3.0], [40.67, -73.74, 1.0], [40.67, -73.71, 2.0], [40.67, -73.7, 1.0], [40.67, -73.68, 1.0], [40.67, -73.65, 1.0], [40.67, -73.59, 1.0], [40.67, -73.55, 1.0], [40.67, -73.49, 1.0], [40.67, -73.4, 1.0], [40.68, -74.19, 1.0], [40.68, -74.16, 1.0], [40.68, -74.14, 1.0], [40.68, -74.11, 28.0], [40.68, -74.1, 27.0], [40.68, -74.05, 1.0], [40.68, -74.02, 6.0], [40.68, -74.01, 85.0], [40.68, -74.0, 1057.0], [40.68, -73.99, 437.0], [40.68, -73.98, 1825.0], [40.68, -73.97, 837.0], [40.68, -73.96, 327.0], [40.68, -73.95, 245.0], [40.68, -73.94, 113.0], [40.68, -73.93, 56.0], [40.68, -73.92, 32.0], [40.68, -73.91, 26.0], [40.68, -73.9, 13.0], [40.68, -73.89, 11.0], [40.68, -73.88, 4.0], [40.68, -73.87, 10.0], [40.68, -73.86, 3.0], [40.68, -73.85, 2.0], [40.68, -73.84, 6.0], [40.68, -73.83, 4.0], [40.68, -73.82, 20.0], [40.68, -73.81, 38.0], [40.68, -73.8, 96.0], [40.68, -73.79, 2.0], [40.68, -73.78, 4.0], [40.68, -73.77, 1.0], [40.68, -73.76, 1.0], [40.68, -73.75, 1.0], [40.68, -73.74, 1.0], [40.68, -73.73, 2.0], [40.68, -73.72, 1.0], [40.68, -73.71, 1.0], [40.68, -73.64, 2.0], [40.68, -73.59, 1.0], [40.68, -73.56, 1.0], [40.69, -74.35, 1.0], [40.69, -74.19, 2.0], [40.69, -74.18, 72.0], [40.69, -74.11, 2.0], [40.69, -74.1, 1.0], [40.69, -74.07, 1.0], [40.69, -74.06, 1.0], [40.69, -74.03, 1.0], [40.69, -74.02, 1.0], [40.69, -74.01, 2.0], [40.69, -74.0, 762.0], [40.69, -73.99, 2719.0], [40.69, -73.98, 1898.0], [40.69, -73.97, 697.0], [40.69, -73.96, 371.0], [40.69, -73.95, 204.0], [40.69, -73.94, 104.0], [40.69, -73.93, 104.0], [40.69, -73.92, 75.0], [40.69, -73.91, 30.0], [40.69, -73.9, 5.0], [40.69, -73.88, 1.0], [40.69, -73.87, 4.0], [40.69, -73.86, 3.0], [40.69, -73.85, 22.0], [40.69, -73.84, 3.0], [40.69, -73.83, 13.0], [40.69, -73.82, 20.0], [40.69, -73.81, 107.0], [40.69, -73.8, 2.0], [40.69, -73.79, 3.0], [40.69, -73.78, 5.0], [40.69, -73.76, 1.0], [40.69, -73.59, 2.0], [40.69, -73.54, 1.0], [40.7, -74.19, 2.0], [40.7, -74.18, 32.0], [40.7, -74.1, 1.0], [40.7, -74.09, 1.0], [40.7, -74.05, 4.0], [40.7, -74.03, 2.0], [40.7, -74.02, 693.0], [40.7, -74.01, 7548.0], [40.7, -74.0, 138.0], [40.7, -73.99, 1621.0], [40.7, -73.98, 437.0], [40.7, -73.97, 90.0], [40.7, -73.96, 142.0], [40.7, -73.95, 124.0], [40.7, -73.94, 299.0], [40.7, -73.93, 352.0], [40.7, -73.92, 97.0], [40.7, -73.91, 59.0], [40.7, -73.9, 16.0], [40.7, -73.89, 6.0], [40.7, -73.87, 2.0], [40.7, -73.86, 6.0], [40.7, -73.85, 3.0], [40.7, -73.84, 3.0], [40.7, -73.83, 16.0], [40.7, -73.82, 60.0], [40.7, -73.81, 72.0], [40.7, -73.8, 4.0], [40.7, -73.79, 3.0], [40.7, -73.75, 1.0], [40.7, -73.69, 1.0], [40.7, -73.67, 1.0], [40.7, -73.46, 1.0], [40.7, -73.33, 1.0], [40.71, -74.35, 1.0], [40.71, -74.29, 1.0], [40.71, -74.18, 2.0], [40.71, -74.17, 4.0], [40.71, -74.16, 4.0], [40.71, -74.14, 1.0], [40.71, -74.04, 5.0], [40.71, -74.03, 2.0], [40.71, -74.02, 7909.0], [40.71, -74.01, 24895.0], [40.71, -74.0, 5754.0], [40.71, -73.99, 1608.0], [40.71, -73.98, 326.0], [40.71, -73.97, 292.0], [40.71, -73.96, 2171.0], [40.71, -73.95, 1200.0], [40.71, -73.94, 616.0], [40.71, -73.93, 144.0], [40.71, -73.92, 119.0], [40.71, -73.91, 12.0], [40.71, -73.9, 19.0], [40.71, -73.89, 3.0], [40.71, -73.88, 4.0], [40.71, -73.86, 14.0], [40.71, -73.85, 4.0], [40.71, -73.84, 10.0], [40.71, -73.83, 48.0], [40.71, -73.82, 66.0], [40.71, -73.81, 12.0], [40.71, -73.8, 34.0], [40.71, -73.79, 15.0], [40.71, -73.78, 3.0], [40.71, -73.77, 1.0], [40.71, -73.75, 3.0], [40.71, -73.74, 2.0], [40.71, -73.73, 2.0], [40.71, -73.72, 1.0], [40.71, -73.69, 1.0], [40.71, -73.66, 1.0], [40.71, -73.64, 1.0], [40.71, -73.63, 3.0], [40.71, -73.44, 1.0], [40.71, -73.4, 1.0], [40.72, -74.36, 2.0], [40.72, -74.33, 1.0], [40.72, -74.18, 1.0], [40.72, -74.15, 1.0], [40.72, -74.09, 1.0], [40.72, -74.08, 1.0], [40.72, -74.07, 2.0], [40.72, -74.06, 2.0], [40.72, -74.05, 8.0], [40.72, -74.04, 29.0], [40.72, -74.03, 11.0], [40.72, -74.02, 1894.0], [40.72, -74.01, 21006.0], [40.72, -74.0, 27770.0], [40.72, -73.99, 34153.0], [40.72, -73.98, 6066.0], [40.72, -73.97, 36.0], [40.72, -73.96, 1717.0], [40.72, -73.95, 780.0], [40.72, -73.94, 143.0], [40.72, -73.93, 7.0], [40.72, -73.91, 5.0], [40.72, -73.9, 8.0], [40.72, -73.89, 4.0], [40.72, -73.87, 14.0], [40.72, -73.86, 17.0], [40.72, -73.85, 63.0], [40.72, -73.84, 119.0], [40.72, -73.83, 47.0], [40.72, -73.82, 17.0], [40.72, -73.81, 8.0], [40.72, -73.8, 7.0], [40.72, -73.79, 8.0], [40.72, -73.78, 1.0], [40.72, -73.77, 5.0], [40.72, -73.76, 43.0], [40.72, -73.75, 2.0], [40.72, -73.74, 1.0], [40.72, -73.72, 1.0], [40.72, -73.59, 3.0], [40.72, -73.58, 2.0], [40.72, -73.54, 1.0], [40.72, -73.42, 1.0], [40.72, -73.33, 1.0], [40.73, -74.53, 1.0], [40.73, -74.17, 2.0], [40.73, -74.15, 1.0], [40.73, -74.14, 1.0], [40.73, -74.09, 1.0], [40.73, -74.07, 6.0], [40.73, -74.06, 4.0], [40.73, -74.05, 7.0], [40.73, -74.04, 25.0], [40.73, -74.03, 18.0], [40.73, -74.02, 2.0], [40.73, -74.01, 14067.0], [40.73, -74.0, 44375.0], [40.73, -73.99, 51173.0], [40.73, -73.98, 23087.0], [40.73, -73.97, 572.0], [40.73, -73.96, 161.0], [40.73, -73.95, 480.0], [40.73, -73.94, 30.0], [40.73, -73.93, 14.0], [40.73, -73.92, 34.0], [40.73, -73.91, 26.0], [40.73, -73.9, 41.0], [40.73, -73.89, 22.0], [40.73, -73.88, 20.0], [40.73, -73.87, 145.0], [40.73, -73.86, 100.0], [40.73, -73.85, 43.0], [40.73, -73.84, 18.0], [40.73, -73.83, 7.0], [40.73, -73.82, 7.0], [40.73, -73.81, 5.0], [40.73, -73.8, 2.0], [40.73, -73.78, 3.0], [40.73, -73.77, 4.0], [40.73, -73.76, 2.0], [40.73, -73.74, 1.0], [40.73, -73.72, 7.0], [40.73, -73.68, 1.0], [40.73, -73.66, 1.0], [40.73, -73.42, 1.0], [40.73, -73.41, 1.0], [40.74, -79.49, 1.0], [40.74, -74.38, 1.0], [40.74, -74.35, 1.0], [40.74, -74.32, 1.0], [40.74, -74.23, 1.0], [40.74, -74.17, 3.0], [40.74, -74.16, 1.0], [40.74, -74.09, 1.0], [40.74, -74.08, 1.0], [40.74, -74.07, 5.0], [40.74, -74.06, 5.0], [40.74, -74.05, 1.0], [40.74, -74.04, 13.0], [40.74, -74.03, 24.0], [40.74, -74.02, 1.0], [40.74, -74.01, 22475.0], [40.74, -74.0, 43922.0], [40.74, -73.99, 65807.0], [40.74, -73.98, 41480.0], [40.74, -73.97, 5190.0], [40.74, -73.96, 110.0], [40.74, -73.95, 523.0], [40.74, -73.94, 83.0], [40.74, -73.93, 577.0], [40.74, -73.92, 1390.0], [40.74, -73.91, 200.0], [40.74, -73.9, 293.0], [40.74, -73.89, 101.0], [40.74, -73.88, 158.0], [40.74, -73.87, 38.0], [40.74, -73.86, 27.0], [40.74, -73.85, 54.0], [40.74, -73.84, 34.0], [40.74, -73.83, 6.0], [40.74, -73.82, 10.0], [40.74, -73.81, 6.0], [40.74, -73.79, 6.0], [40.74, -73.78, 3.0], [40.74, -73.77, 1.0], [40.74, -73.76, 1.0], [40.74, -73.75, 1.0], [40.74, -73.74, 1.0], [40.74, -73.72, 3.0], [40.74, -73.71, 6.0], [40.74, -73.7, 1.0], [40.74, -73.69, 1.0], [40.74, -73.64, 1.0], [40.74, -73.61, 1.0], [40.74, -73.59, 1.0], [40.75, -74.18, 2.0], [40.75, -74.14, 1.0], [40.75, -74.13, 1.0], [40.75, -74.06, 1.0], [40.75, -74.05, 1.0], [40.75, -74.04, 5.0], [40.75, -74.03, 34.0], [40.75, -74.02, 4.0], [40.75, -74.01, 5586.0], [40.75, -74.0, 24505.0], [40.75, -73.99, 90071.0], [40.75, -73.98, 72644.0], [40.75, -73.97, 32269.0], [40.75, -73.96, 448.0], [40.75, -73.95, 746.0], [40.75, -73.94, 1784.0], [40.75, -73.93, 482.0], [40.75, -73.92, 302.0], [40.75, -73.91, 373.0], [40.75, -73.9, 445.0], [40.75, -73.89, 410.0], [40.75, -73.88, 159.0], [40.75, -73.87, 45.0], [40.75, -73.86, 15.0], [40.75, -73.85, 11.0], [40.75, -73.83, 8.0], [40.75, -73.82, 4.0], [40.75, -73.81, 1.0], [40.75, -73.8, 2.0], [40.75, -73.76, 1.0], [40.75, -73.74, 2.0], [40.75, -73.7, 1.0], [40.75, -73.68, 1.0], [40.75, -73.65, 2.0], [40.75, -73.56, 1.0], [40.75, -73.23, 1.0], [40.76, -74.27, 1.0], [40.76, -74.25, 1.0], [40.76, -74.22, 1.0], [40.76, -74.1, 1.0], [40.76, -74.08, 1.0], [40.76, -74.07, 1.0], [40.76, -74.06, 1.0], [40.76, -74.05, 3.0], [40.76, -74.04, 3.0], [40.76, -74.03, 7.0], [40.76, -74.02, 10.0], [40.76, -74.01, 12.0], [40.76, -74.0, 16320.0], [40.76, -73.99, 65702.0], [40.76, -73.98, 77753.0], [40.76, -73.97, 90199.0], [40.76, -73.96, 25619.0], [40.76, -73.95, 2133.0], [40.76, -73.94, 563.0], [40.76, -73.93, 1062.0], [40.76, -73.92, 886.0], [40.76, -73.91, 167.0], [40.76, -73.9, 121.0], [40.76, -73.89, 122.0], [40.76, -73.88, 228.0], [40.76, -73.87, 46.0], [40.76, -73.86, 43.0], [40.76, -73.85, 8.0], [40.76, -73.84, 8.0], [40.76, -73.83, 52.0], [40.76, -73.82, 13.0], [40.76, -73.81, 1.0], [40.76, -73.8, 4.0], [40.76, -73.78, 3.0], [40.76, -73.77, 3.0], [40.76, -73.69, 2.0], [40.76, -73.61, 1.0], [40.76, -73.55, 2.0], [40.76, -73.49, 1.0], [40.76, -73.43, 1.0], [40.76, -73.42, 1.0], [40.76, -73.22, 2.0], [40.77, -74.33, 1.0], [40.77, -74.23, 1.0], [40.77, -74.21, 1.0], [40.77, -74.09, 1.0], [40.77, -74.08, 1.0], [40.77, -74.05, 1.0], [40.77, -74.03, 8.0], [40.77, -74.02, 11.0], [40.77, -74.0, 1073.0], [40.77, -73.99, 18426.0], [40.77, -73.98, 47712.0], [40.77, -73.97, 19071.0], [40.77, -73.96, 51425.0], [40.77, -73.95, 27941.0], [40.77, -73.94, 105.0], [40.77, -73.93, 846.0], [40.77, -73.92, 948.0], [40.77, -73.91, 506.0], [40.77, -73.9, 153.0], [40.77, -73.89, 1476.0], [40.77, -73.88, 535.0], [40.77, -73.87, 19951.0], [40.77, -73.86, 15159.0], [40.77, -73.85, 1.0], [40.77, -73.84, 4.0], [40.77, -73.83, 18.0], [40.77, -73.82, 2.0], [40.77, -73.81, 1.0], [40.77, -73.77, 1.0], [40.77, -73.74, 1.0], [40.77, -73.73, 1.0], [40.77, -73.71, 2.0], [40.77, -73.66, 2.0], [40.77, -73.63, 1.0], [40.77, -73.53, 2.0], [40.77, -73.48, 1.0], [40.77, -73.2, 1.0], [40.78, -74.06, 2.0], [40.78, -74.05, 1.0], [40.78, -74.02, 3.0], [40.78, -74.01, 7.0], [40.78, -74.0, 1.0], [40.78, -73.99, 4858.0], [40.78, -73.98, 36069.0], [40.78, -73.97, 8042.0], [40.78, -73.96, 39099.0], [40.78, -73.95, 37807.0], [40.78, -73.94, 1926.0], [40.78, -73.93, 19.0], [40.78, -73.92, 100.0], [40.78, -73.91, 152.0], [40.78, -73.9, 10.0], [40.78, -73.88, 2.0], [40.78, -73.87, 7.0], [40.78, -73.85, 3.0], [40.78, -73.83, 2.0], [40.78, -73.82, 2.0], [40.78, -73.81, 1.0], [40.78, -73.78, 1.0], [40.78, -73.77, 1.0], [40.78, -73.73, 1.0], [40.78, -73.66, 1.0], [40.78, -73.56, 1.0], [40.78, -73.44, 1.0], [40.78, -73.42, 1.0], [40.78, -73.33, 1.0], [40.79, -74.39, 1.0], [40.79, -74.21, 1.0], [40.79, -74.2, 1.0], [40.79, -74.19, 1.0], [40.79, -74.06, 2.0], [40.79, -74.05, 4.0], [40.79, -74.04, 3.0], [40.79, -74.03, 1.0], [40.79, -74.02, 3.0], [40.79, -74.01, 5.0], [40.79, -74.0, 1.0], [40.79, -73.99, 1.0], [40.79, -73.98, 13930.0], [40.79, -73.97, 25591.0], [40.79, -73.96, 4099.0], [40.79, -73.95, 9069.0], [40.79, -73.94, 2791.0], [40.79, -73.93, 56.0], [40.79, -73.92, 23.0], [40.79, -73.88, 2.0], [40.79, -73.84, 4.0], [40.79, -73.81, 1.0], [40.79, -73.77, 1.0], [40.79, -73.73, 1.0], [40.79, -73.43, 1.0], [40.8, -74.46, 1.0], [40.8, -74.25, 1.0], [40.8, -74.22, 1.0], [40.8, -74.12, 1.0], [40.8, -74.1, 1.0], [40.8, -74.07, 1.0], [40.8, -74.06, 1.0], [40.8, -74.0, 1.0], [40.8, -73.98, 38.0], [40.8, -73.97, 12555.0], [40.8, -73.96, 6019.0], [40.8, -73.95, 2235.0], [40.8, -73.94, 2964.0], [40.8, -73.93, 667.0], [40.8, -73.92, 39.0], [40.8, -73.91, 11.0], [40.8, -73.87, 1.0], [40.8, -73.83, 3.0], [40.8, -73.75, 1.0], [40.8, -73.74, 1.0], [40.8, -73.68, 1.0], [40.8, -73.65, 1.0], [40.8, -73.51, 1.0], [40.81, -74.4, 1.0], [40.81, -74.36, 1.0], [40.81, -74.29, 1.0], [40.81, -74.21, 1.0], [40.81, -74.14, 1.0], [40.81, -74.12, 1.0], [40.81, -74.1, 1.0], [40.81, -74.08, 3.0], [40.81, -74.07, 1.0], [40.81, -74.01, 1.0], [40.81, -74.0, 1.0], [40.81, -73.99, 2.0], [40.81, -73.97, 948.0], [40.81, -73.96, 4260.0], [40.81, -73.95, 2281.0], [40.81, -73.94, 1621.0], [40.81, -73.93, 240.0], [40.81, -73.92, 69.0], [40.81, -73.91, 22.0], [40.81, -73.9, 6.0], [40.81, -73.89, 1.0], [40.81, -73.88, 1.0], [40.81, -73.86, 1.0], [40.81, -73.84, 1.0], [40.81, -73.83, 1.0], [40.81, -73.81, 2.0], [40.82, -78.55, 1.0], [40.82, -74.21, 1.0], [40.82, -74.17, 1.0], [40.82, -74.1, 1.0], [40.82, -74.02, 1.0], [40.82, -74.0, 1.0], [40.82, -73.96, 1081.0], [40.82, -73.95, 1342.0], [40.82, -73.94, 822.0], [40.82, -73.93, 101.0], [40.82, -73.92, 76.0], [40.82, -73.91, 39.0], [40.82, -73.9, 10.0], [40.82, -73.89, 7.0], [40.82, -73.88, 3.0], [40.82, -73.84, 1.0], [40.82, -73.81, 1.0], [40.82, -73.74, 1.0], [40.82, -73.64, 1.0], [40.83, -74.21, 1.0], [40.83, -74.2, 2.0], [40.83, -74.08, 1.0], [40.83, -74.03, 1.0], [40.83, -73.99, 1.0], [40.83, -73.98, 1.0], [40.83, -73.97, 1.0], [40.83, -73.96, 5.0], [40.83, -73.95, 1122.0], [40.83, -73.94, 373.0], [40.83, -73.93, 52.0], [40.83, -73.92, 106.0], [40.83, -73.91, 14.0], [40.83, -73.9, 9.0], [40.83, -73.89, 10.0], [40.83, -73.88, 7.0], [40.83, -73.87, 1.0], [40.83, -73.86, 26.0], [40.83, -73.85, 15.0], [40.83, -73.84, 3.0], [40.83, -73.83, 1.0], [40.83, -73.82, 1.0], [40.83, -73.6, 1.0], [40.83, -73.24, 1.0], [40.84, -74.46, 1.0], [40.84, -74.45, 1.0], [40.84, -74.44, 1.0], [40.84, -74.16, 1.0], [40.84, -74.11, 1.0], [40.84, -74.1, 2.0], [40.84, -74.07, 1.0], [40.84, -73.99, 1.0], [40.84, -73.95, 28.0], [40.84, -73.94, 795.0], [40.84, -73.93, 10.0], [40.84, -73.92, 69.0], [40.84, -73.91, 16.0], [40.84, -73.9, 10.0], [40.84, -73.89, 5.0], [40.84, -73.88, 5.0], [40.84, -73.87, 12.0], [40.84, -73.86, 8.0], [40.84, -73.85, 6.0], [40.84, -73.84, 3.0], [40.84, -73.83, 2.0], [40.84, -73.8, 1.0], [40.84, -73.78, 1.0], [40.84, -73.7, 1.0], [40.84, -73.64, 1.0], [40.84, -73.38, 1.0], [40.85, -74.16, 1.0], [40.85, -74.08, 2.0], [40.85, -74.07, 1.0], [40.85, -74.05, 1.0], [40.85, -74.01, 1.0], [40.85, -73.99, 2.0], [40.85, -73.96, 2.0], [40.85, -73.94, 406.0], [40.85, -73.93, 92.0], [40.85, -73.92, 21.0], [40.85, -73.91, 24.0], [40.85, -73.9, 23.0], [40.85, -73.89, 5.0], [40.85, -73.88, 4.0], [40.85, -73.87, 7.0], [40.85, -73.86, 3.0], [40.85, -73.85, 4.0], [40.85, -73.84, 1.0], [40.85, -73.83, 1.0], [40.85, -73.79, 3.0], [40.85, -73.71, 1.0], [40.85, -73.69, 1.0], [40.86, -74.41, 1.0], [40.86, -74.03, 1.0], [40.86, -74.02, 2.0], [40.86, -74.01, 1.0], [40.86, -73.99, 1.0], [40.86, -73.98, 1.0], [40.86, -73.97, 3.0], [40.86, -73.96, 1.0], [40.86, -73.94, 22.0], [40.86, -73.93, 95.0], [40.86, -73.92, 16.0], [40.86, -73.91, 9.0], [40.86, -73.9, 22.0], [40.86, -73.89, 4.0], [40.86, -73.88, 3.0], [40.86, -73.87, 3.0], [40.86, -73.86, 4.0], [40.86, -73.84, 1.0], [40.86, -73.83, 1.0], [40.87, -74.31, 1.0], [40.87, -74.18, 1.0], [40.87, -74.1, 1.0], [40.87, -74.02, 1.0], [40.87, -74.01, 2.0], [40.87, -74.0, 1.0], [40.87, -73.97, 1.0], [40.87, -73.96, 1.0], [40.87, -73.93, 100.0], [40.87, -73.92, 88.0], [40.87, -73.91, 34.0], [40.87, -73.9, 7.0], [40.87, -73.89, 11.0], [40.87, -73.88, 9.0], [40.87, -73.87, 5.0], [40.87, -73.86, 3.0], [40.87, -73.85, 3.0], [40.87, -73.84, 4.0], [40.87, -73.83, 1.0], [40.87, -73.82, 3.0], [40.88, -74.05, 1.0], [40.88, -74.03, 2.0], [40.88, -74.02, 7.0], [40.88, -74.01, 1.0], [40.88, -74.0, 2.0], [40.88, -73.98, 1.0], [40.88, -73.95, 1.0], [40.88, -73.92, 5.0], [40.88, -73.91, 19.0], [40.88, -73.9, 13.0], [40.88, -73.89, 3.0], [40.88, -73.88, 6.0], [40.88, -73.87, 4.0], [40.88, -73.86, 5.0], [40.88, -73.84, 1.0], [40.88, -73.83, 3.0], [40.88, -72.42, 1.0], [40.89, -74.26, 1.0], [40.89, -74.12, 1.0], [40.89, -74.08, 1.0], [40.89, -74.01, 1.0], [40.89, -73.97, 1.0], [40.89, -73.94, 1.0], [40.89, -73.91, 6.0], [40.89, -73.9, 7.0], [40.89, -73.89, 1.0], [40.89, -73.86, 7.0], [40.89, -73.85, 1.0], [40.89, -73.84, 2.0], [40.89, -73.83, 1.0], [40.9, -74.51, 1.0], [40.9, -74.26, 1.0], [40.9, -74.14, 1.0], [40.9, -74.13, 1.0], [40.9, -74.1, 1.0], [40.9, -74.04, 1.0], [40.9, -74.01, 1.0], [40.9, -73.91, 1.0], [40.9, -73.9, 2.0], [40.9, -73.88, 1.0], [40.9, -73.87, 5.0], [40.9, -73.86, 2.0], [40.9, -73.85, 2.0], [40.9, -73.81, 1.0], [40.9, -73.8, 1.0], [40.9, -73.79, 1.0], [40.9, -73.77, 1.0], [40.9, -73.63, 1.0], [40.9, -73.45, 1.0], [40.9, -73.43, 1.0], [40.91, -74.39, 1.0], [40.91, -74.18, 1.0], [40.91, -74.05, 1.0], [40.91, -74.01, 1.0], [40.91, -73.99, 1.0], [40.91, -73.97, 1.0], [40.91, -73.91, 2.0], [40.91, -73.87, 1.0], [40.91, -73.86, 1.0], [40.91, -73.83, 1.0], [40.91, -73.78, 3.0], [40.92, -73.97, 1.0], [40.92, -73.96, 1.0], [40.92, -73.9, 1.0], [40.92, -73.89, 1.0], [40.92, -73.87, 1.0], [40.92, -73.86, 1.0], [40.92, -73.84, 1.0], [40.92, -73.81, 1.0], [40.92, -73.79, 2.0], [40.93, -74.04, 1.0], [40.93, -74.02, 1.0], [40.93, -73.9, 1.0], [40.93, -73.85, 2.0], [40.93, -73.75, 1.0], [40.93, -73.74, 1.0], [40.94, -73.96, 1.0], [40.94, -73.89, 1.0], [40.94, -73.79, 1.0], [40.94, -73.76, 1.0], [40.94, -73.75, 1.0], [40.95, -73.89, 1.0], [40.95, -73.84, 1.0], [40.95, -73.83, 2.0], [40.95, -73.82, 1.0], [40.95, -73.79, 1.0], [40.95, -73.78, 1.0], [40.95, -73.72, 1.0], [40.95, -73.09, 1.0], [40.96, -74.23, 1.0], [40.96, -73.88, 1.0], [40.96, -73.81, 1.0], [40.96, -73.74, 1.0], [40.96, -73.69, 2.0], [40.97, -74.41, 1.0], [40.97, -73.88, 1.0], [40.98, -74.17, 1.0], [40.98, -74.1, 2.0], [40.98, -74.01, 1.0], [40.98, -73.77, 1.0], [40.98, -73.7, 1.0], [40.98, -73.68, 1.0], [40.99, -73.83, 1.0], [40.99, -73.81, 1.0], [40.99, -73.76, 1.0], [40.99, -73.75, 1.0], [40.99, -73.67, 2.0], [41.0, -74.2, 1.0], [41.0, -73.88, 1.0], [41.0, -73.83, 1.0], [41.0, -73.81, 1.0], [41.0, -73.8, 1.0], [41.0, -73.7, 1.0], [41.0, -73.68, 1.0], [41.01, -73.86, 1.0], [41.01, -73.8, 1.0], [41.01, -73.69, 1.0], [41.02, -74.18, 1.0], [41.02, -73.78, 1.0], [41.02, -73.77, 1.0], [41.02, -73.67, 1.0], [41.02, -73.65, 1.0], [41.02, -73.62, 2.0], [41.03, -73.98, 1.0], [41.03, -73.78, 1.0], [41.03, -73.77, 2.0], [41.03, -73.76, 2.0], [41.03, -73.6, 1.0], [41.03, -73.58, 1.0], [41.04, -73.98, 1.0], [41.04, -73.8, 1.0], [41.04, -73.77, 1.0], [41.04, -73.69, 2.0], [41.04, -73.55, 1.0], [41.05, -73.86, 1.0], [41.05, -73.54, 3.0], [41.05, -73.53, 1.0], [41.06, -74.09, 1.0], [41.06, -73.95, 1.0], [41.06, -73.84, 1.0], [41.06, -73.83, 1.0], [41.07, -73.86, 1.0], [41.07, -73.55, 1.0], [41.08, -73.83, 1.0], [41.08, -73.71, 1.0], [41.09, -73.52, 1.0], [41.1, -73.72, 1.0], [41.11, -73.8, 1.0], [41.11, -73.72, 2.0], [41.12, -73.71, 1.0], [41.12, -73.37, 1.0], [41.13, -73.38, 1.0], [41.14, -73.43, 1.0], [41.16, -73.77, 1.0], [41.17, -73.31, 2.0], [41.19, -73.88, 1.0], [41.19, -73.85, 1.0], [41.21, -73.8, 1.0], [41.22, -73.9, 1.0], [41.22, -73.25, 1.0], [41.26, -73.69, 1.0], [41.28, -73.7, 1.0], [41.29, -73.68, 2.0], [41.3, -72.93, 1.0], [41.3, -72.92, 1.0], [41.32, -74.13, 1.0], [41.32, -73.9, 1.0], [41.43, -75.24, 1.0], [41.59, -79.57, 1.0], [41.69, -73.9, 1.0], [41.7, -73.91, 1.0], [42.46, -70.51, 1.0], [43.02, -70.85, 1.0], [43.14, -72.59, 1.0], [43.49, -74.2, 1.0], [43.91, -71.88, 1.0], [44.37, -66.97, 1.0], [51.88, -72.81, 1.0]],\n",
       "                {&quot;blur&quot;: 10, &quot;maxZoom&quot;: 1, &quot;minOpacity&quot;: 0.3, &quot;radius&quot;: 5}\n",
       "            ).addTo(map_d7522c338afd986c51c5bf421aeac842);\n",
       "        \n",
       "&lt;/script&gt;\" style=\"position:absolute;width:100%;height:100%;left:0;top:0;border:none !important;\" allowfullscreen webkitallowfullscreen mozallowfullscreen></iframe></div></div>"
      ],
      "text/plain": [
       "<folium.folium.Map at 0x7fc500c53990>"
      ]
     },
     "execution_count": 14,
     "metadata": {},
     "output_type": "execute_result"
    }
   ],
   "source": [
    "import folium\n",
    "from folium.plugins import HeatMap\n",
    "\n",
    "# Setting up new york coordinates\n",
    "pickup_map = folium.Map(location = [40.730610,-73.935242], zoom_start = 10)\n",
    "\n",
    "heatmap = HeatMap(list(zip(pickup.pickup_latitude_round.values, \n",
    "                           pickup.pickup_longitude_round.values,\n",
    "                           pickup.Num_Trips.values.astype(float))),\n",
    "                  min_opacity = 0.3,\n",
    "                  radius = 5, blur = 10,\n",
    "                  max_zoom = 1)\n",
    "\n",
    "pickup_map.add_child(heatmap)\n",
    "\n",
    "pickup_map"
   ]
  },
  {
   "cell_type": "code",
   "execution_count": 15,
   "id": "23cf30ed",
   "metadata": {
    "execution": {
     "iopub.execute_input": "2022-10-13T09:03:08.483039Z",
     "iopub.status.busy": "2022-10-13T09:03:08.482654Z",
     "iopub.status.idle": "2022-10-13T09:03:08.519799Z",
     "shell.execute_reply": "2022-10-13T09:03:08.518500Z"
    },
    "papermill": {
     "duration": 0.048283,
     "end_time": "2022-10-13T09:03:08.522412",
     "exception": false,
     "start_time": "2022-10-13T09:03:08.474129",
     "status": "completed"
    },
    "tags": []
   },
   "outputs": [
    {
     "data": {
      "text/html": [
       "<div style=\"width:100%;\"><div style=\"position:relative;width:100%;height:0;padding-bottom:60%;\"><span style=\"color:#565656\">Make this Notebook Trusted to load map: File -> Trust Notebook</span><iframe srcdoc=\"&lt;!DOCTYPE html&gt;\n",
       "&lt;head&gt;    \n",
       "    &lt;meta http-equiv=&quot;content-type&quot; content=&quot;text/html; charset=UTF-8&quot; /&gt;\n",
       "    \n",
       "        &lt;script&gt;\n",
       "            L_NO_TOUCH = false;\n",
       "            L_DISABLE_3D = false;\n",
       "        &lt;/script&gt;\n",
       "    \n",
       "    &lt;style&gt;html, body {width: 100%;height: 100%;margin: 0;padding: 0;}&lt;/style&gt;\n",
       "    &lt;style&gt;#map {position:absolute;top:0;bottom:0;right:0;left:0;}&lt;/style&gt;\n",
       "    &lt;script src=&quot;https://cdn.jsdelivr.net/npm/leaflet@1.6.0/dist/leaflet.js&quot;&gt;&lt;/script&gt;\n",
       "    &lt;script src=&quot;https://code.jquery.com/jquery-1.12.4.min.js&quot;&gt;&lt;/script&gt;\n",
       "    &lt;script src=&quot;https://maxcdn.bootstrapcdn.com/bootstrap/3.2.0/js/bootstrap.min.js&quot;&gt;&lt;/script&gt;\n",
       "    &lt;script src=&quot;https://cdnjs.cloudflare.com/ajax/libs/Leaflet.awesome-markers/2.0.2/leaflet.awesome-markers.js&quot;&gt;&lt;/script&gt;\n",
       "    &lt;link rel=&quot;stylesheet&quot; href=&quot;https://cdn.jsdelivr.net/npm/leaflet@1.6.0/dist/leaflet.css&quot;/&gt;\n",
       "    &lt;link rel=&quot;stylesheet&quot; href=&quot;https://maxcdn.bootstrapcdn.com/bootstrap/3.2.0/css/bootstrap.min.css&quot;/&gt;\n",
       "    &lt;link rel=&quot;stylesheet&quot; href=&quot;https://maxcdn.bootstrapcdn.com/bootstrap/3.2.0/css/bootstrap-theme.min.css&quot;/&gt;\n",
       "    &lt;link rel=&quot;stylesheet&quot; href=&quot;https://maxcdn.bootstrapcdn.com/font-awesome/4.6.3/css/font-awesome.min.css&quot;/&gt;\n",
       "    &lt;link rel=&quot;stylesheet&quot; href=&quot;https://cdnjs.cloudflare.com/ajax/libs/Leaflet.awesome-markers/2.0.2/leaflet.awesome-markers.css&quot;/&gt;\n",
       "    &lt;link rel=&quot;stylesheet&quot; href=&quot;https://cdn.jsdelivr.net/gh/python-visualization/folium/folium/templates/leaflet.awesome.rotate.min.css&quot;/&gt;\n",
       "    \n",
       "            &lt;meta name=&quot;viewport&quot; content=&quot;width=device-width,\n",
       "                initial-scale=1.0, maximum-scale=1.0, user-scalable=no&quot; /&gt;\n",
       "            &lt;style&gt;\n",
       "                #map_d7522c338afd986c51c5bf421aeac842 {\n",
       "                    position: relative;\n",
       "                    width: 100.0%;\n",
       "                    height: 100.0%;\n",
       "                    left: 0.0%;\n",
       "                    top: 0.0%;\n",
       "                }\n",
       "            &lt;/style&gt;\n",
       "        \n",
       "    &lt;script src=&quot;https://cdn.jsdelivr.net/gh/python-visualization/folium@master/folium/templates/leaflet_heat.min.js&quot;&gt;&lt;/script&gt;\n",
       "&lt;/head&gt;\n",
       "&lt;body&gt;    \n",
       "    \n",
       "            &lt;div class=&quot;folium-map&quot; id=&quot;map_d7522c338afd986c51c5bf421aeac842&quot; &gt;&lt;/div&gt;\n",
       "        \n",
       "&lt;/body&gt;\n",
       "&lt;script&gt;    \n",
       "    \n",
       "            var map_d7522c338afd986c51c5bf421aeac842 = L.map(\n",
       "                &quot;map_d7522c338afd986c51c5bf421aeac842&quot;,\n",
       "                {\n",
       "                    center: [40.73061, -73.935242],\n",
       "                    crs: L.CRS.EPSG3857,\n",
       "                    zoom: 10,\n",
       "                    zoomControl: true,\n",
       "                    preferCanvas: false,\n",
       "                }\n",
       "            );\n",
       "\n",
       "            \n",
       "\n",
       "        \n",
       "    \n",
       "            var tile_layer_ce2a8e1b5006ab50e0d9068922a5e819 = L.tileLayer(\n",
       "                &quot;https://{s}.tile.openstreetmap.org/{z}/{x}/{y}.png&quot;,\n",
       "                {&quot;attribution&quot;: &quot;Data by \\u0026copy; \\u003ca href=\\&quot;http://openstreetmap.org\\&quot;\\u003eOpenStreetMap\\u003c/a\\u003e, under \\u003ca href=\\&quot;http://www.openstreetmap.org/copyright\\&quot;\\u003eODbL\\u003c/a\\u003e.&quot;, &quot;detectRetina&quot;: false, &quot;maxNativeZoom&quot;: 18, &quot;maxZoom&quot;: 18, &quot;minZoom&quot;: 0, &quot;noWrap&quot;: false, &quot;opacity&quot;: 1, &quot;subdomains&quot;: &quot;abc&quot;, &quot;tms&quot;: false}\n",
       "            ).addTo(map_d7522c338afd986c51c5bf421aeac842);\n",
       "        \n",
       "    \n",
       "            var heat_map_c58b6c8bebcba8f1f96bf13f23e2bbe3 = L.heatLayer(\n",
       "                [[34.36, -65.85, 1.0], [34.71, -75.35, 1.0], [35.08, -71.8, 1.0], [35.31, -72.07, 1.0], [36.03, -77.44, 1.0], [36.12, -68.78, 1.0], [37.39, -121.93, 2.0], [37.78, -77.9, 1.0], [37.85, -61.34, 1.0], [38.9, -77.04, 4.0], [38.95, -76.96, 1.0], [39.44, -75.52, 1.0], [39.46, -65.9, 1.0], [39.8, -75.46, 1.0], [39.92, -75.24, 1.0], [40.1, -74.73, 1.0], [40.21, -73.68, 1.0], [40.23, -74.08, 1.0], [40.28, -74.71, 1.0], [40.3, -74.0, 2.0], [40.32, -73.35, 1.0], [40.36, -74.61, 1.0], [40.39, -74.58, 1.0], [40.4, -74.1, 1.0], [40.41, -74.08, 1.0], [40.43, -74.3, 1.0], [40.43, -74.07, 1.0], [40.44, -74.52, 1.0], [40.44, -74.07, 1.0], [40.45, -74.32, 1.0], [40.45, -74.08, 1.0], [40.45, -74.05, 1.0], [40.46, -74.05, 1.0], [40.47, -74.25, 1.0], [40.5, -74.45, 1.0], [40.5, -74.44, 1.0], [40.5, -74.15, 1.0], [40.51, -73.81, 1.0], [40.52, -74.18, 1.0], [40.52, -74.02, 1.0], [40.52, -73.75, 1.0], [40.53, -74.42, 1.0], [40.53, -74.36, 1.0], [40.53, -74.32, 1.0], [40.53, -74.01, 1.0], [40.53, -74.0, 1.0], [40.53, -73.99, 1.0], [40.53, -73.75, 1.0], [40.54, -73.98, 1.0], [40.54, -73.94, 1.0], [40.54, -73.82, 1.0], [40.55, -74.35, 1.0], [40.55, -74.2, 1.0], [40.55, -74.14, 1.0], [40.55, -74.0, 3.0], [40.55, -73.84, 1.0], [40.56, -74.13, 1.0], [40.57, -74.35, 1.0], [40.57, -74.33, 1.0], [40.57, -74.0, 1.0], [40.57, -73.97, 2.0], [40.57, -73.84, 1.0], [40.58, -74.33, 1.0], [40.58, -74.29, 1.0], [40.58, -74.23, 2.0], [40.58, -74.0, 1.0], [40.58, -73.99, 1.0], [40.58, -73.98, 7.0], [40.58, -73.97, 5.0], [40.58, -73.96, 8.0], [40.58, -73.95, 4.0], [40.58, -73.87, 1.0], [40.58, -73.85, 1.0], [40.58, -73.83, 1.0], [40.59, -74.23, 1.0], [40.59, -73.99, 2.0], [40.59, -73.98, 2.0], [40.59, -73.97, 2.0], [40.59, -73.96, 1.0], [40.59, -73.95, 5.0], [40.59, -73.94, 2.0], [40.59, -73.93, 3.0], [40.59, -73.79, 2.0], [40.59, -73.7, 1.0], [40.59, -73.69, 1.0], [40.59, -73.68, 1.0], [40.6, -74.12, 1.0], [40.6, -74.07, 1.0], [40.6, -74.06, 3.0], [40.6, -74.05, 3.0], [40.6, -74.03, 1.0], [40.6, -74.0, 8.0], [40.6, -73.99, 6.0], [40.6, -73.98, 4.0], [40.6, -73.97, 8.0], [40.6, -73.96, 6.0], [40.6, -73.95, 2.0], [40.6, -73.94, 5.0], [40.6, -73.9, 2.0], [40.6, -73.77, 3.0], [40.6, -73.75, 2.0], [40.6, -73.72, 1.0], [40.61, -74.09, 1.0], [40.61, -74.08, 2.0], [40.61, -74.07, 7.0], [40.61, -74.04, 1.0], [40.61, -74.03, 3.0], [40.61, -74.01, 2.0], [40.61, -74.0, 3.0], [40.61, -73.98, 4.0], [40.61, -73.97, 9.0], [40.61, -73.96, 3.0], [40.61, -73.95, 5.0], [40.61, -73.94, 1.0], [40.61, -73.92, 5.0], [40.61, -73.91, 1.0], [40.61, -73.9, 1.0], [40.61, -73.82, 1.0], [40.61, -73.77, 1.0], [40.62, -74.4, 1.0], [40.62, -74.08, 4.0], [40.62, -74.07, 2.0], [40.62, -74.04, 5.0], [40.62, -74.03, 17.0], [40.62, -74.02, 9.0], [40.62, -74.01, 2.0], [40.62, -74.0, 4.0], [40.62, -73.99, 4.0], [40.62, -73.98, 6.0], [40.62, -73.97, 19.0], [40.62, -73.96, 11.0], [40.62, -73.95, 1.0], [40.62, -73.94, 4.0], [40.62, -73.93, 9.0], [40.62, -73.92, 2.0], [40.62, -73.91, 1.0], [40.62, -73.9, 1.0], [40.62, -73.81, 2.0], [40.62, -73.77, 1.0], [40.62, -73.66, 1.0], [40.63, -74.09, 6.0], [40.63, -74.08, 2.0], [40.63, -74.04, 4.0], [40.63, -74.03, 12.0], [40.63, -74.02, 15.0], [40.63, -74.01, 10.0], [40.63, -73.98, 13.0], [40.63, -73.97, 40.0], [40.63, -73.96, 8.0], [40.63, -73.95, 12.0], [40.63, -73.94, 8.0], [40.63, -73.93, 5.0], [40.63, -73.92, 8.0], [40.63, -73.91, 6.0], [40.63, -73.9, 3.0], [40.63, -73.89, 3.0], [40.63, -73.88, 2.0], [40.63, -73.79, 1.0], [40.63, -73.78, 1.0], [40.63, -73.76, 1.0], [40.63, -73.72, 1.0], [40.63, -73.65, 1.0], [40.64, -74.15, 1.0], [40.64, -74.14, 2.0], [40.64, -74.09, 20.0], [40.64, -74.07, 1.0], [40.64, -74.04, 1.0], [40.64, -74.03, 7.0], [40.64, -74.02, 27.0], [40.64, -74.01, 7.0], [40.64, -74.0, 7.0], [40.64, -73.99, 9.0], [40.64, -73.98, 34.0], [40.64, -73.97, 80.0], [40.64, -73.96, 35.0], [40.64, -73.95, 27.0], [40.64, -73.94, 6.0], [40.64, -73.93, 4.0], [40.64, -73.92, 6.0], [40.64, -73.91, 4.0], [40.64, -73.9, 8.0], [40.64, -73.89, 3.0], [40.64, -73.88, 1.0], [40.64, -73.8, 116.0], [40.64, -73.79, 6322.0], [40.64, -73.78, 9003.0], [40.64, -73.76, 1.0], [40.64, -73.63, 1.0], [40.64, -73.55, 1.0], [40.65, -74.58, 1.0], [40.65, -74.32, 1.0], [40.65, -74.19, 1.0], [40.65, -74.02, 7.0], [40.65, -74.01, 39.0], [40.65, -74.0, 35.0], [40.65, -73.99, 2.0], [40.65, -73.98, 25.0], [40.65, -73.97, 52.0], [40.65, -73.96, 107.0], [40.65, -73.95, 30.0], [40.65, -73.94, 4.0], [40.65, -73.93, 2.0], [40.65, -73.92, 5.0], [40.65, -73.91, 5.0], [40.65, -73.9, 3.0], [40.65, -73.89, 4.0], [40.65, -73.88, 2.0], [40.65, -73.87, 2.0], [40.65, -73.84, 2.0], [40.65, -73.83, 1.0], [40.65, -73.81, 78.0], [40.65, -73.8, 229.0], [40.65, -73.79, 5946.0], [40.65, -73.78, 9915.0], [40.65, -73.73, 1.0], [40.66, -74.17, 2.0], [40.66, -74.07, 2.0], [40.66, -74.01, 7.0], [40.66, -74.0, 79.0], [40.66, -73.99, 110.0], [40.66, -73.98, 94.0], [40.66, -73.97, 8.0], [40.66, -73.96, 192.0], [40.66, -73.95, 47.0], [40.66, -73.94, 12.0], [40.66, -73.93, 24.0], [40.66, -73.92, 16.0], [40.66, -73.91, 6.0], [40.66, -73.9, 5.0], [40.66, -73.89, 12.0], [40.66, -73.88, 4.0], [40.66, -73.86, 1.0], [40.66, -73.85, 2.0], [40.66, -73.84, 1.0], [40.66, -73.82, 1.0], [40.66, -73.81, 102.0], [40.66, -73.8, 59.0], [40.66, -73.79, 264.0], [40.66, -73.77, 3.0], [40.66, -73.76, 1.0], [40.66, -73.73, 1.0], [40.66, -73.65, 2.0], [40.66, -73.61, 1.0], [40.66, -73.55, 1.0], [40.67, -74.19, 1.0], [40.67, -74.14, 1.0], [40.67, -74.1, 1.0], [40.67, -74.08, 1.0], [40.67, -74.02, 1.0], [40.67, -74.01, 9.0], [40.67, -74.0, 119.0], [40.67, -73.99, 542.0], [40.67, -73.98, 324.0], [40.67, -73.97, 117.0], [40.67, -73.96, 190.0], [40.67, -73.95, 107.0], [40.67, -73.94, 49.0], [40.67, -73.93, 47.0], [40.67, -73.92, 18.0], [40.67, -73.91, 15.0], [40.67, -73.9, 10.0], [40.67, -73.89, 5.0], [40.67, -73.88, 2.0], [40.67, -73.87, 5.0], [40.67, -73.86, 4.0], [40.67, -73.85, 2.0], [40.67, -73.84, 4.0], [40.67, -73.83, 18.0], [40.67, -73.82, 3.0], [40.67, -73.81, 14.0], [40.67, -73.8, 188.0], [40.67, -73.79, 29.0], [40.67, -73.78, 9.0], [40.67, -73.77, 5.0], [40.67, -73.76, 2.0], [40.67, -73.75, 3.0], [40.67, -73.74, 1.0], [40.67, -73.71, 2.0], [40.67, -73.7, 1.0], [40.67, -73.68, 1.0], [40.67, -73.65, 1.0], [40.67, -73.59, 1.0], [40.67, -73.55, 1.0], [40.67, -73.49, 1.0], [40.67, -73.4, 1.0], [40.68, -74.19, 1.0], [40.68, -74.16, 1.0], [40.68, -74.14, 1.0], [40.68, -74.11, 28.0], [40.68, -74.1, 27.0], [40.68, -74.05, 1.0], [40.68, -74.02, 6.0], [40.68, -74.01, 85.0], [40.68, -74.0, 1057.0], [40.68, -73.99, 437.0], [40.68, -73.98, 1825.0], [40.68, -73.97, 837.0], [40.68, -73.96, 327.0], [40.68, -73.95, 245.0], [40.68, -73.94, 113.0], [40.68, -73.93, 56.0], [40.68, -73.92, 32.0], [40.68, -73.91, 26.0], [40.68, -73.9, 13.0], [40.68, -73.89, 11.0], [40.68, -73.88, 4.0], [40.68, -73.87, 10.0], [40.68, -73.86, 3.0], [40.68, -73.85, 2.0], [40.68, -73.84, 6.0], [40.68, -73.83, 4.0], [40.68, -73.82, 20.0], [40.68, -73.81, 38.0], [40.68, -73.8, 96.0], [40.68, -73.79, 2.0], [40.68, -73.78, 4.0], [40.68, -73.77, 1.0], [40.68, -73.76, 1.0], [40.68, -73.75, 1.0], [40.68, -73.74, 1.0], [40.68, -73.73, 2.0], [40.68, -73.72, 1.0], [40.68, -73.71, 1.0], [40.68, -73.64, 2.0], [40.68, -73.59, 1.0], [40.68, -73.56, 1.0], [40.69, -74.35, 1.0], [40.69, -74.19, 2.0], [40.69, -74.18, 72.0], [40.69, -74.11, 2.0], [40.69, -74.1, 1.0], [40.69, -74.07, 1.0], [40.69, -74.06, 1.0], [40.69, -74.03, 1.0], [40.69, -74.02, 1.0], [40.69, -74.01, 2.0], [40.69, -74.0, 762.0], [40.69, -73.99, 2719.0], [40.69, -73.98, 1898.0], [40.69, -73.97, 697.0], [40.69, -73.96, 371.0], [40.69, -73.95, 204.0], [40.69, -73.94, 104.0], [40.69, -73.93, 104.0], [40.69, -73.92, 75.0], [40.69, -73.91, 30.0], [40.69, -73.9, 5.0], [40.69, -73.88, 1.0], [40.69, -73.87, 4.0], [40.69, -73.86, 3.0], [40.69, -73.85, 22.0], [40.69, -73.84, 3.0], [40.69, -73.83, 13.0], [40.69, -73.82, 20.0], [40.69, -73.81, 107.0], [40.69, -73.8, 2.0], [40.69, -73.79, 3.0], [40.69, -73.78, 5.0], [40.69, -73.76, 1.0], [40.69, -73.59, 2.0], [40.69, -73.54, 1.0], [40.7, -74.19, 2.0], [40.7, -74.18, 32.0], [40.7, -74.1, 1.0], [40.7, -74.09, 1.0], [40.7, -74.05, 4.0], [40.7, -74.03, 2.0], [40.7, -74.02, 693.0], [40.7, -74.01, 7548.0], [40.7, -74.0, 138.0], [40.7, -73.99, 1621.0], [40.7, -73.98, 437.0], [40.7, -73.97, 90.0], [40.7, -73.96, 142.0], [40.7, -73.95, 124.0], [40.7, -73.94, 299.0], [40.7, -73.93, 352.0], [40.7, -73.92, 97.0], [40.7, -73.91, 59.0], [40.7, -73.9, 16.0], [40.7, -73.89, 6.0], [40.7, -73.87, 2.0], [40.7, -73.86, 6.0], [40.7, -73.85, 3.0], [40.7, -73.84, 3.0], [40.7, -73.83, 16.0], [40.7, -73.82, 60.0], [40.7, -73.81, 72.0], [40.7, -73.8, 4.0], [40.7, -73.79, 3.0], [40.7, -73.75, 1.0], [40.7, -73.69, 1.0], [40.7, -73.67, 1.0], [40.7, -73.46, 1.0], [40.7, -73.33, 1.0], [40.71, -74.35, 1.0], [40.71, -74.29, 1.0], [40.71, -74.18, 2.0], [40.71, -74.17, 4.0], [40.71, -74.16, 4.0], [40.71, -74.14, 1.0], [40.71, -74.04, 5.0], [40.71, -74.03, 2.0], [40.71, -74.02, 7909.0], [40.71, -74.01, 24895.0], [40.71, -74.0, 5754.0], [40.71, -73.99, 1608.0], [40.71, -73.98, 326.0], [40.71, -73.97, 292.0], [40.71, -73.96, 2171.0], [40.71, -73.95, 1200.0], [40.71, -73.94, 616.0], [40.71, -73.93, 144.0], [40.71, -73.92, 119.0], [40.71, -73.91, 12.0], [40.71, -73.9, 19.0], [40.71, -73.89, 3.0], [40.71, -73.88, 4.0], [40.71, -73.86, 14.0], [40.71, -73.85, 4.0], [40.71, -73.84, 10.0], [40.71, -73.83, 48.0], [40.71, -73.82, 66.0], [40.71, -73.81, 12.0], [40.71, -73.8, 34.0], [40.71, -73.79, 15.0], [40.71, -73.78, 3.0], [40.71, -73.77, 1.0], [40.71, -73.75, 3.0], [40.71, -73.74, 2.0], [40.71, -73.73, 2.0], [40.71, -73.72, 1.0], [40.71, -73.69, 1.0], [40.71, -73.66, 1.0], [40.71, -73.64, 1.0], [40.71, -73.63, 3.0], [40.71, -73.44, 1.0], [40.71, -73.4, 1.0], [40.72, -74.36, 2.0], [40.72, -74.33, 1.0], [40.72, -74.18, 1.0], [40.72, -74.15, 1.0], [40.72, -74.09, 1.0], [40.72, -74.08, 1.0], [40.72, -74.07, 2.0], [40.72, -74.06, 2.0], [40.72, -74.05, 8.0], [40.72, -74.04, 29.0], [40.72, -74.03, 11.0], [40.72, -74.02, 1894.0], [40.72, -74.01, 21006.0], [40.72, -74.0, 27770.0], [40.72, -73.99, 34153.0], [40.72, -73.98, 6066.0], [40.72, -73.97, 36.0], [40.72, -73.96, 1717.0], [40.72, -73.95, 780.0], [40.72, -73.94, 143.0], [40.72, -73.93, 7.0], [40.72, -73.91, 5.0], [40.72, -73.9, 8.0], [40.72, -73.89, 4.0], [40.72, -73.87, 14.0], [40.72, -73.86, 17.0], [40.72, -73.85, 63.0], [40.72, -73.84, 119.0], [40.72, -73.83, 47.0], [40.72, -73.82, 17.0], [40.72, -73.81, 8.0], [40.72, -73.8, 7.0], [40.72, -73.79, 8.0], [40.72, -73.78, 1.0], [40.72, -73.77, 5.0], [40.72, -73.76, 43.0], [40.72, -73.75, 2.0], [40.72, -73.74, 1.0], [40.72, -73.72, 1.0], [40.72, -73.59, 3.0], [40.72, -73.58, 2.0], [40.72, -73.54, 1.0], [40.72, -73.42, 1.0], [40.72, -73.33, 1.0], [40.73, -74.53, 1.0], [40.73, -74.17, 2.0], [40.73, -74.15, 1.0], [40.73, -74.14, 1.0], [40.73, -74.09, 1.0], [40.73, -74.07, 6.0], [40.73, -74.06, 4.0], [40.73, -74.05, 7.0], [40.73, -74.04, 25.0], [40.73, -74.03, 18.0], [40.73, -74.02, 2.0], [40.73, -74.01, 14067.0], [40.73, -74.0, 44375.0], [40.73, -73.99, 51173.0], [40.73, -73.98, 23087.0], [40.73, -73.97, 572.0], [40.73, -73.96, 161.0], [40.73, -73.95, 480.0], [40.73, -73.94, 30.0], [40.73, -73.93, 14.0], [40.73, -73.92, 34.0], [40.73, -73.91, 26.0], [40.73, -73.9, 41.0], [40.73, -73.89, 22.0], [40.73, -73.88, 20.0], [40.73, -73.87, 145.0], [40.73, -73.86, 100.0], [40.73, -73.85, 43.0], [40.73, -73.84, 18.0], [40.73, -73.83, 7.0], [40.73, -73.82, 7.0], [40.73, -73.81, 5.0], [40.73, -73.8, 2.0], [40.73, -73.78, 3.0], [40.73, -73.77, 4.0], [40.73, -73.76, 2.0], [40.73, -73.74, 1.0], [40.73, -73.72, 7.0], [40.73, -73.68, 1.0], [40.73, -73.66, 1.0], [40.73, -73.42, 1.0], [40.73, -73.41, 1.0], [40.74, -79.49, 1.0], [40.74, -74.38, 1.0], [40.74, -74.35, 1.0], [40.74, -74.32, 1.0], [40.74, -74.23, 1.0], [40.74, -74.17, 3.0], [40.74, -74.16, 1.0], [40.74, -74.09, 1.0], [40.74, -74.08, 1.0], [40.74, -74.07, 5.0], [40.74, -74.06, 5.0], [40.74, -74.05, 1.0], [40.74, -74.04, 13.0], [40.74, -74.03, 24.0], [40.74, -74.02, 1.0], [40.74, -74.01, 22475.0], [40.74, -74.0, 43922.0], [40.74, -73.99, 65807.0], [40.74, -73.98, 41480.0], [40.74, -73.97, 5190.0], [40.74, -73.96, 110.0], [40.74, -73.95, 523.0], [40.74, -73.94, 83.0], [40.74, -73.93, 577.0], [40.74, -73.92, 1390.0], [40.74, -73.91, 200.0], [40.74, -73.9, 293.0], [40.74, -73.89, 101.0], [40.74, -73.88, 158.0], [40.74, -73.87, 38.0], [40.74, -73.86, 27.0], [40.74, -73.85, 54.0], [40.74, -73.84, 34.0], [40.74, -73.83, 6.0], [40.74, -73.82, 10.0], [40.74, -73.81, 6.0], [40.74, -73.79, 6.0], [40.74, -73.78, 3.0], [40.74, -73.77, 1.0], [40.74, -73.76, 1.0], [40.74, -73.75, 1.0], [40.74, -73.74, 1.0], [40.74, -73.72, 3.0], [40.74, -73.71, 6.0], [40.74, -73.7, 1.0], [40.74, -73.69, 1.0], [40.74, -73.64, 1.0], [40.74, -73.61, 1.0], [40.74, -73.59, 1.0], [40.75, -74.18, 2.0], [40.75, -74.14, 1.0], [40.75, -74.13, 1.0], [40.75, -74.06, 1.0], [40.75, -74.05, 1.0], [40.75, -74.04, 5.0], [40.75, -74.03, 34.0], [40.75, -74.02, 4.0], [40.75, -74.01, 5586.0], [40.75, -74.0, 24505.0], [40.75, -73.99, 90071.0], [40.75, -73.98, 72644.0], [40.75, -73.97, 32269.0], [40.75, -73.96, 448.0], [40.75, -73.95, 746.0], [40.75, -73.94, 1784.0], [40.75, -73.93, 482.0], [40.75, -73.92, 302.0], [40.75, -73.91, 373.0], [40.75, -73.9, 445.0], [40.75, -73.89, 410.0], [40.75, -73.88, 159.0], [40.75, -73.87, 45.0], [40.75, -73.86, 15.0], [40.75, -73.85, 11.0], [40.75, -73.83, 8.0], [40.75, -73.82, 4.0], [40.75, -73.81, 1.0], [40.75, -73.8, 2.0], [40.75, -73.76, 1.0], [40.75, -73.74, 2.0], [40.75, -73.7, 1.0], [40.75, -73.68, 1.0], [40.75, -73.65, 2.0], [40.75, -73.56, 1.0], [40.75, -73.23, 1.0], [40.76, -74.27, 1.0], [40.76, -74.25, 1.0], [40.76, -74.22, 1.0], [40.76, -74.1, 1.0], [40.76, -74.08, 1.0], [40.76, -74.07, 1.0], [40.76, -74.06, 1.0], [40.76, -74.05, 3.0], [40.76, -74.04, 3.0], [40.76, -74.03, 7.0], [40.76, -74.02, 10.0], [40.76, -74.01, 12.0], [40.76, -74.0, 16320.0], [40.76, -73.99, 65702.0], [40.76, -73.98, 77753.0], [40.76, -73.97, 90199.0], [40.76, -73.96, 25619.0], [40.76, -73.95, 2133.0], [40.76, -73.94, 563.0], [40.76, -73.93, 1062.0], [40.76, -73.92, 886.0], [40.76, -73.91, 167.0], [40.76, -73.9, 121.0], [40.76, -73.89, 122.0], [40.76, -73.88, 228.0], [40.76, -73.87, 46.0], [40.76, -73.86, 43.0], [40.76, -73.85, 8.0], [40.76, -73.84, 8.0], [40.76, -73.83, 52.0], [40.76, -73.82, 13.0], [40.76, -73.81, 1.0], [40.76, -73.8, 4.0], [40.76, -73.78, 3.0], [40.76, -73.77, 3.0], [40.76, -73.69, 2.0], [40.76, -73.61, 1.0], [40.76, -73.55, 2.0], [40.76, -73.49, 1.0], [40.76, -73.43, 1.0], [40.76, -73.42, 1.0], [40.76, -73.22, 2.0], [40.77, -74.33, 1.0], [40.77, -74.23, 1.0], [40.77, -74.21, 1.0], [40.77, -74.09, 1.0], [40.77, -74.08, 1.0], [40.77, -74.05, 1.0], [40.77, -74.03, 8.0], [40.77, -74.02, 11.0], [40.77, -74.0, 1073.0], [40.77, -73.99, 18426.0], [40.77, -73.98, 47712.0], [40.77, -73.97, 19071.0], [40.77, -73.96, 51425.0], [40.77, -73.95, 27941.0], [40.77, -73.94, 105.0], [40.77, -73.93, 846.0], [40.77, -73.92, 948.0], [40.77, -73.91, 506.0], [40.77, -73.9, 153.0], [40.77, -73.89, 1476.0], [40.77, -73.88, 535.0], [40.77, -73.87, 19951.0], [40.77, -73.86, 15159.0], [40.77, -73.85, 1.0], [40.77, -73.84, 4.0], [40.77, -73.83, 18.0], [40.77, -73.82, 2.0], [40.77, -73.81, 1.0], [40.77, -73.77, 1.0], [40.77, -73.74, 1.0], [40.77, -73.73, 1.0], [40.77, -73.71, 2.0], [40.77, -73.66, 2.0], [40.77, -73.63, 1.0], [40.77, -73.53, 2.0], [40.77, -73.48, 1.0], [40.77, -73.2, 1.0], [40.78, -74.06, 2.0], [40.78, -74.05, 1.0], [40.78, -74.02, 3.0], [40.78, -74.01, 7.0], [40.78, -74.0, 1.0], [40.78, -73.99, 4858.0], [40.78, -73.98, 36069.0], [40.78, -73.97, 8042.0], [40.78, -73.96, 39099.0], [40.78, -73.95, 37807.0], [40.78, -73.94, 1926.0], [40.78, -73.93, 19.0], [40.78, -73.92, 100.0], [40.78, -73.91, 152.0], [40.78, -73.9, 10.0], [40.78, -73.88, 2.0], [40.78, -73.87, 7.0], [40.78, -73.85, 3.0], [40.78, -73.83, 2.0], [40.78, -73.82, 2.0], [40.78, -73.81, 1.0], [40.78, -73.78, 1.0], [40.78, -73.77, 1.0], [40.78, -73.73, 1.0], [40.78, -73.66, 1.0], [40.78, -73.56, 1.0], [40.78, -73.44, 1.0], [40.78, -73.42, 1.0], [40.78, -73.33, 1.0], [40.79, -74.39, 1.0], [40.79, -74.21, 1.0], [40.79, -74.2, 1.0], [40.79, -74.19, 1.0], [40.79, -74.06, 2.0], [40.79, -74.05, 4.0], [40.79, -74.04, 3.0], [40.79, -74.03, 1.0], [40.79, -74.02, 3.0], [40.79, -74.01, 5.0], [40.79, -74.0, 1.0], [40.79, -73.99, 1.0], [40.79, -73.98, 13930.0], [40.79, -73.97, 25591.0], [40.79, -73.96, 4099.0], [40.79, -73.95, 9069.0], [40.79, -73.94, 2791.0], [40.79, -73.93, 56.0], [40.79, -73.92, 23.0], [40.79, -73.88, 2.0], [40.79, -73.84, 4.0], [40.79, -73.81, 1.0], [40.79, -73.77, 1.0], [40.79, -73.73, 1.0], [40.79, -73.43, 1.0], [40.8, -74.46, 1.0], [40.8, -74.25, 1.0], [40.8, -74.22, 1.0], [40.8, -74.12, 1.0], [40.8, -74.1, 1.0], [40.8, -74.07, 1.0], [40.8, -74.06, 1.0], [40.8, -74.0, 1.0], [40.8, -73.98, 38.0], [40.8, -73.97, 12555.0], [40.8, -73.96, 6019.0], [40.8, -73.95, 2235.0], [40.8, -73.94, 2964.0], [40.8, -73.93, 667.0], [40.8, -73.92, 39.0], [40.8, -73.91, 11.0], [40.8, -73.87, 1.0], [40.8, -73.83, 3.0], [40.8, -73.75, 1.0], [40.8, -73.74, 1.0], [40.8, -73.68, 1.0], [40.8, -73.65, 1.0], [40.8, -73.51, 1.0], [40.81, -74.4, 1.0], [40.81, -74.36, 1.0], [40.81, -74.29, 1.0], [40.81, -74.21, 1.0], [40.81, -74.14, 1.0], [40.81, -74.12, 1.0], [40.81, -74.1, 1.0], [40.81, -74.08, 3.0], [40.81, -74.07, 1.0], [40.81, -74.01, 1.0], [40.81, -74.0, 1.0], [40.81, -73.99, 2.0], [40.81, -73.97, 948.0], [40.81, -73.96, 4260.0], [40.81, -73.95, 2281.0], [40.81, -73.94, 1621.0], [40.81, -73.93, 240.0], [40.81, -73.92, 69.0], [40.81, -73.91, 22.0], [40.81, -73.9, 6.0], [40.81, -73.89, 1.0], [40.81, -73.88, 1.0], [40.81, -73.86, 1.0], [40.81, -73.84, 1.0], [40.81, -73.83, 1.0], [40.81, -73.81, 2.0], [40.82, -78.55, 1.0], [40.82, -74.21, 1.0], [40.82, -74.17, 1.0], [40.82, -74.1, 1.0], [40.82, -74.02, 1.0], [40.82, -74.0, 1.0], [40.82, -73.96, 1081.0], [40.82, -73.95, 1342.0], [40.82, -73.94, 822.0], [40.82, -73.93, 101.0], [40.82, -73.92, 76.0], [40.82, -73.91, 39.0], [40.82, -73.9, 10.0], [40.82, -73.89, 7.0], [40.82, -73.88, 3.0], [40.82, -73.84, 1.0], [40.82, -73.81, 1.0], [40.82, -73.74, 1.0], [40.82, -73.64, 1.0], [40.83, -74.21, 1.0], [40.83, -74.2, 2.0], [40.83, -74.08, 1.0], [40.83, -74.03, 1.0], [40.83, -73.99, 1.0], [40.83, -73.98, 1.0], [40.83, -73.97, 1.0], [40.83, -73.96, 5.0], [40.83, -73.95, 1122.0], [40.83, -73.94, 373.0], [40.83, -73.93, 52.0], [40.83, -73.92, 106.0], [40.83, -73.91, 14.0], [40.83, -73.9, 9.0], [40.83, -73.89, 10.0], [40.83, -73.88, 7.0], [40.83, -73.87, 1.0], [40.83, -73.86, 26.0], [40.83, -73.85, 15.0], [40.83, -73.84, 3.0], [40.83, -73.83, 1.0], [40.83, -73.82, 1.0], [40.83, -73.6, 1.0], [40.83, -73.24, 1.0], [40.84, -74.46, 1.0], [40.84, -74.45, 1.0], [40.84, -74.44, 1.0], [40.84, -74.16, 1.0], [40.84, -74.11, 1.0], [40.84, -74.1, 2.0], [40.84, -74.07, 1.0], [40.84, -73.99, 1.0], [40.84, -73.95, 28.0], [40.84, -73.94, 795.0], [40.84, -73.93, 10.0], [40.84, -73.92, 69.0], [40.84, -73.91, 16.0], [40.84, -73.9, 10.0], [40.84, -73.89, 5.0], [40.84, -73.88, 5.0], [40.84, -73.87, 12.0], [40.84, -73.86, 8.0], [40.84, -73.85, 6.0], [40.84, -73.84, 3.0], [40.84, -73.83, 2.0], [40.84, -73.8, 1.0], [40.84, -73.78, 1.0], [40.84, -73.7, 1.0], [40.84, -73.64, 1.0], [40.84, -73.38, 1.0], [40.85, -74.16, 1.0], [40.85, -74.08, 2.0], [40.85, -74.07, 1.0], [40.85, -74.05, 1.0], [40.85, -74.01, 1.0], [40.85, -73.99, 2.0], [40.85, -73.96, 2.0], [40.85, -73.94, 406.0], [40.85, -73.93, 92.0], [40.85, -73.92, 21.0], [40.85, -73.91, 24.0], [40.85, -73.9, 23.0], [40.85, -73.89, 5.0], [40.85, -73.88, 4.0], [40.85, -73.87, 7.0], [40.85, -73.86, 3.0], [40.85, -73.85, 4.0], [40.85, -73.84, 1.0], [40.85, -73.83, 1.0], [40.85, -73.79, 3.0], [40.85, -73.71, 1.0], [40.85, -73.69, 1.0], [40.86, -74.41, 1.0], [40.86, -74.03, 1.0], [40.86, -74.02, 2.0], [40.86, -74.01, 1.0], [40.86, -73.99, 1.0], [40.86, -73.98, 1.0], [40.86, -73.97, 3.0], [40.86, -73.96, 1.0], [40.86, -73.94, 22.0], [40.86, -73.93, 95.0], [40.86, -73.92, 16.0], [40.86, -73.91, 9.0], [40.86, -73.9, 22.0], [40.86, -73.89, 4.0], [40.86, -73.88, 3.0], [40.86, -73.87, 3.0], [40.86, -73.86, 4.0], [40.86, -73.84, 1.0], [40.86, -73.83, 1.0], [40.87, -74.31, 1.0], [40.87, -74.18, 1.0], [40.87, -74.1, 1.0], [40.87, -74.02, 1.0], [40.87, -74.01, 2.0], [40.87, -74.0, 1.0], [40.87, -73.97, 1.0], [40.87, -73.96, 1.0], [40.87, -73.93, 100.0], [40.87, -73.92, 88.0], [40.87, -73.91, 34.0], [40.87, -73.9, 7.0], [40.87, -73.89, 11.0], [40.87, -73.88, 9.0], [40.87, -73.87, 5.0], [40.87, -73.86, 3.0], [40.87, -73.85, 3.0], [40.87, -73.84, 4.0], [40.87, -73.83, 1.0], [40.87, -73.82, 3.0], [40.88, -74.05, 1.0], [40.88, -74.03, 2.0], [40.88, -74.02, 7.0], [40.88, -74.01, 1.0], [40.88, -74.0, 2.0], [40.88, -73.98, 1.0], [40.88, -73.95, 1.0], [40.88, -73.92, 5.0], [40.88, -73.91, 19.0], [40.88, -73.9, 13.0], [40.88, -73.89, 3.0], [40.88, -73.88, 6.0], [40.88, -73.87, 4.0], [40.88, -73.86, 5.0], [40.88, -73.84, 1.0], [40.88, -73.83, 3.0], [40.88, -72.42, 1.0], [40.89, -74.26, 1.0], [40.89, -74.12, 1.0], [40.89, -74.08, 1.0], [40.89, -74.01, 1.0], [40.89, -73.97, 1.0], [40.89, -73.94, 1.0], [40.89, -73.91, 6.0], [40.89, -73.9, 7.0], [40.89, -73.89, 1.0], [40.89, -73.86, 7.0], [40.89, -73.85, 1.0], [40.89, -73.84, 2.0], [40.89, -73.83, 1.0], [40.9, -74.51, 1.0], [40.9, -74.26, 1.0], [40.9, -74.14, 1.0], [40.9, -74.13, 1.0], [40.9, -74.1, 1.0], [40.9, -74.04, 1.0], [40.9, -74.01, 1.0], [40.9, -73.91, 1.0], [40.9, -73.9, 2.0], [40.9, -73.88, 1.0], [40.9, -73.87, 5.0], [40.9, -73.86, 2.0], [40.9, -73.85, 2.0], [40.9, -73.81, 1.0], [40.9, -73.8, 1.0], [40.9, -73.79, 1.0], [40.9, -73.77, 1.0], [40.9, -73.63, 1.0], [40.9, -73.45, 1.0], [40.9, -73.43, 1.0], [40.91, -74.39, 1.0], [40.91, -74.18, 1.0], [40.91, -74.05, 1.0], [40.91, -74.01, 1.0], [40.91, -73.99, 1.0], [40.91, -73.97, 1.0], [40.91, -73.91, 2.0], [40.91, -73.87, 1.0], [40.91, -73.86, 1.0], [40.91, -73.83, 1.0], [40.91, -73.78, 3.0], [40.92, -73.97, 1.0], [40.92, -73.96, 1.0], [40.92, -73.9, 1.0], [40.92, -73.89, 1.0], [40.92, -73.87, 1.0], [40.92, -73.86, 1.0], [40.92, -73.84, 1.0], [40.92, -73.81, 1.0], [40.92, -73.79, 2.0], [40.93, -74.04, 1.0], [40.93, -74.02, 1.0], [40.93, -73.9, 1.0], [40.93, -73.85, 2.0], [40.93, -73.75, 1.0], [40.93, -73.74, 1.0], [40.94, -73.96, 1.0], [40.94, -73.89, 1.0], [40.94, -73.79, 1.0], [40.94, -73.76, 1.0], [40.94, -73.75, 1.0], [40.95, -73.89, 1.0], [40.95, -73.84, 1.0], [40.95, -73.83, 2.0], [40.95, -73.82, 1.0], [40.95, -73.79, 1.0], [40.95, -73.78, 1.0], [40.95, -73.72, 1.0], [40.95, -73.09, 1.0], [40.96, -74.23, 1.0], [40.96, -73.88, 1.0], [40.96, -73.81, 1.0], [40.96, -73.74, 1.0], [40.96, -73.69, 2.0], [40.97, -74.41, 1.0], [40.97, -73.88, 1.0], [40.98, -74.17, 1.0], [40.98, -74.1, 2.0], [40.98, -74.01, 1.0], [40.98, -73.77, 1.0], [40.98, -73.7, 1.0], [40.98, -73.68, 1.0], [40.99, -73.83, 1.0], [40.99, -73.81, 1.0], [40.99, -73.76, 1.0], [40.99, -73.75, 1.0], [40.99, -73.67, 2.0], [41.0, -74.2, 1.0], [41.0, -73.88, 1.0], [41.0, -73.83, 1.0], [41.0, -73.81, 1.0], [41.0, -73.8, 1.0], [41.0, -73.7, 1.0], [41.0, -73.68, 1.0], [41.01, -73.86, 1.0], [41.01, -73.8, 1.0], [41.01, -73.69, 1.0], [41.02, -74.18, 1.0], [41.02, -73.78, 1.0], [41.02, -73.77, 1.0], [41.02, -73.67, 1.0], [41.02, -73.65, 1.0], [41.02, -73.62, 2.0], [41.03, -73.98, 1.0], [41.03, -73.78, 1.0], [41.03, -73.77, 2.0], [41.03, -73.76, 2.0], [41.03, -73.6, 1.0], [41.03, -73.58, 1.0], [41.04, -73.98, 1.0], [41.04, -73.8, 1.0], [41.04, -73.77, 1.0], [41.04, -73.69, 2.0], [41.04, -73.55, 1.0], [41.05, -73.86, 1.0], [41.05, -73.54, 3.0], [41.05, -73.53, 1.0], [41.06, -74.09, 1.0], [41.06, -73.95, 1.0], [41.06, -73.84, 1.0], [41.06, -73.83, 1.0], [41.07, -73.86, 1.0], [41.07, -73.55, 1.0], [41.08, -73.83, 1.0], [41.08, -73.71, 1.0], [41.09, -73.52, 1.0], [41.1, -73.72, 1.0], [41.11, -73.8, 1.0], [41.11, -73.72, 2.0], [41.12, -73.71, 1.0], [41.12, -73.37, 1.0], [41.13, -73.38, 1.0], [41.14, -73.43, 1.0], [41.16, -73.77, 1.0], [41.17, -73.31, 2.0], [41.19, -73.88, 1.0], [41.19, -73.85, 1.0], [41.21, -73.8, 1.0], [41.22, -73.9, 1.0], [41.22, -73.25, 1.0], [41.26, -73.69, 1.0], [41.28, -73.7, 1.0], [41.29, -73.68, 2.0], [41.3, -72.93, 1.0], [41.3, -72.92, 1.0], [41.32, -74.13, 1.0], [41.32, -73.9, 1.0], [41.43, -75.24, 1.0], [41.59, -79.57, 1.0], [41.69, -73.9, 1.0], [41.7, -73.91, 1.0], [42.46, -70.51, 1.0], [43.02, -70.85, 1.0], [43.14, -72.59, 1.0], [43.49, -74.2, 1.0], [43.91, -71.88, 1.0], [44.37, -66.97, 1.0], [51.88, -72.81, 1.0]],\n",
       "                {&quot;blur&quot;: 10, &quot;maxZoom&quot;: 1, &quot;minOpacity&quot;: 0.3, &quot;radius&quot;: 5}\n",
       "            ).addTo(map_d7522c338afd986c51c5bf421aeac842);\n",
       "        \n",
       "    \n",
       "            var heat_map_91b990298d0c5894bfb12e84981df474 = L.heatLayer(\n",
       "                [[32.18, -75.35, 1.0], [34.36, -65.85, 1.0], [35.17, -72.07, 1.0], [36.03, -77.44, 1.0], [36.12, -68.78, 1.0], [36.4, -73.99, 1.0], [37.39, -121.93, 2.0], [37.78, -77.9, 1.0], [37.85, -61.34, 1.0], [38.48, -73.98, 1.0], [38.9, -77.04, 4.0], [38.95, -76.96, 1.0], [38.95, -74.01, 1.0], [38.96, -73.87, 1.0], [39.44, -75.52, 1.0], [39.46, -65.9, 1.0], [40.15, -74.73, 1.0], [40.23, -74.08, 1.0], [40.24, -73.98, 1.0], [40.27, -73.99, 1.0], [40.28, -74.71, 1.0], [40.29, -73.99, 1.0], [40.3, -74.0, 2.0], [40.32, -73.78, 1.0], [40.32, -73.35, 1.0], [40.34, -73.79, 1.0], [40.36, -74.61, 1.0], [40.36, -73.96, 1.0], [40.39, -74.58, 1.0], [40.41, -73.87, 1.0], [40.42, -74.05, 1.0], [40.42, -74.01, 1.0], [40.42, -74.0, 1.0], [40.43, -74.3, 1.0], [40.43, -74.05, 1.0], [40.44, -74.52, 1.0], [40.44, -74.08, 1.0], [40.44, -74.07, 1.0], [40.44, -73.78, 1.0], [40.44, -71.8, 1.0], [40.45, -74.08, 1.0], [40.46, -74.07, 1.0], [40.47, -74.25, 1.0], [40.47, -73.99, 1.0], [40.48, -74.1, 1.0], [40.48, -73.99, 1.0], [40.48, -73.87, 1.0], [40.49, -73.99, 2.0], [40.49, -73.97, 1.0], [40.5, -74.45, 1.0], [40.5, -74.44, 1.0], [40.5, -74.15, 1.0], [40.5, -74.0, 1.0], [40.51, -73.99, 1.0], [40.51, -73.97, 1.0], [40.51, -73.81, 1.0], [40.52, -74.18, 1.0], [40.52, -74.02, 1.0], [40.52, -74.01, 1.0], [40.52, -73.79, 1.0], [40.52, -73.78, 1.0], [40.52, -73.75, 1.0], [40.53, -74.42, 1.0], [40.53, -74.36, 1.0], [40.53, -74.32, 1.0], [40.53, -74.0, 2.0], [40.53, -73.99, 1.0], [40.53, -73.95, 1.0], [40.53, -73.81, 1.0], [40.53, -73.8, 2.0], [40.53, -73.79, 1.0], [40.53, -73.75, 1.0], [40.54, -74.0, 2.0], [40.54, -73.99, 1.0], [40.54, -73.98, 4.0], [40.54, -73.97, 2.0], [40.54, -73.94, 1.0], [40.54, -73.89, 1.0], [40.54, -73.87, 2.0], [40.54, -73.79, 1.0], [40.55, -74.35, 1.0], [40.55, -74.2, 1.0], [40.55, -74.14, 1.0], [40.55, -74.01, 5.0], [40.55, -74.0, 4.0], [40.55, -73.99, 1.0], [40.55, -73.98, 4.0], [40.55, -73.97, 2.0], [40.55, -73.87, 1.0], [40.55, -73.79, 1.0], [40.55, -73.78, 2.0], [40.56, -74.13, 1.0], [40.56, -74.01, 4.0], [40.56, -74.0, 4.0], [40.56, -73.99, 6.0], [40.56, -73.98, 3.0], [40.56, -73.97, 3.0], [40.56, -73.87, 3.0], [40.56, -73.8, 1.0], [40.56, -73.79, 3.0], [40.56, -73.78, 6.0], [40.57, -74.35, 1.0], [40.57, -74.33, 1.0], [40.57, -74.01, 7.0], [40.57, -74.0, 4.0], [40.57, -73.99, 10.0], [40.57, -73.98, 7.0], [40.57, -73.97, 1.0], [40.57, -73.96, 1.0], [40.57, -73.89, 1.0], [40.57, -73.87, 3.0], [40.57, -73.86, 1.0], [40.57, -73.84, 1.0], [40.57, -73.79, 9.0], [40.57, -73.78, 15.0], [40.58, -74.33, 1.0], [40.58, -74.29, 1.0], [40.58, -74.23, 1.0], [40.58, -74.03, 1.0], [40.58, -74.02, 5.0], [40.58, -74.01, 38.0], [40.58, -74.0, 21.0], [40.58, -73.99, 67.0], [40.58, -73.98, 54.0], [40.58, -73.97, 21.0], [40.58, -73.96, 15.0], [40.58, -73.95, 8.0], [40.58, -73.93, 2.0], [40.58, -73.9, 1.0], [40.58, -73.89, 2.0], [40.58, -73.87, 18.0], [40.58, -73.86, 9.0], [40.58, -73.82, 1.0], [40.58, -73.79, 52.0], [40.58, -73.78, 59.0], [40.58, -73.72, 1.0], [40.59, -74.02, 1.0], [40.59, -74.01, 14.0], [40.59, -74.0, 20.0], [40.59, -73.99, 59.0], [40.59, -73.98, 48.0], [40.59, -73.97, 25.0], [40.59, -73.96, 15.0], [40.59, -73.95, 8.0], [40.59, -73.94, 4.0], [40.59, -73.93, 1.0], [40.59, -73.92, 2.0], [40.59, -73.91, 2.0], [40.59, -73.9, 2.0], [40.59, -73.89, 3.0], [40.59, -73.87, 13.0], [40.59, -73.86, 6.0], [40.59, -73.85, 1.0], [40.59, -73.83, 1.0], [40.59, -73.82, 1.0], [40.59, -73.8, 1.0], [40.59, -73.79, 48.0], [40.59, -73.78, 66.0], [40.59, -73.7, 1.0], [40.59, -73.69, 1.0], [40.59, -73.68, 1.0], [40.6, -74.12, 1.0], [40.6, -74.07, 1.0], [40.6, -74.06, 3.0], [40.6, -74.05, 1.0], [40.6, -74.03, 3.0], [40.6, -74.02, 3.0], [40.6, -74.01, 50.0], [40.6, -74.0, 61.0], [40.6, -73.99, 124.0], [40.6, -73.98, 81.0], [40.6, -73.97, 37.0], [40.6, -73.96, 18.0], [40.6, -73.95, 20.0], [40.6, -73.94, 2.0], [40.6, -73.93, 1.0], [40.6, -73.92, 2.0], [40.6, -73.9, 1.0], [40.6, -73.89, 2.0], [40.6, -73.88, 1.0], [40.6, -73.87, 12.0], [40.6, -73.86, 7.0], [40.6, -73.81, 2.0], [40.6, -73.8, 2.0], [40.6, -73.79, 48.0], [40.6, -73.78, 109.0], [40.6, -73.77, 1.0], [40.61, -75.24, 1.0], [40.61, -74.09, 1.0], [40.61, -74.08, 1.0], [40.61, -74.07, 7.0], [40.61, -74.05, 2.0], [40.61, -74.04, 3.0], [40.61, -74.03, 3.0], [40.61, -74.02, 7.0], [40.61, -74.01, 80.0], [40.61, -74.0, 85.0], [40.61, -73.99, 178.0], [40.61, -73.98, 125.0], [40.61, -73.97, 63.0], [40.61, -73.96, 30.0], [40.61, -73.95, 23.0], [40.61, -73.94, 6.0], [40.61, -73.93, 2.0], [40.61, -73.91, 1.0], [40.61, -73.9, 1.0], [40.61, -73.89, 1.0], [40.61, -73.88, 3.0], [40.61, -73.87, 38.0], [40.61, -73.86, 20.0], [40.61, -73.83, 1.0], [40.61, -73.8, 2.0], [40.61, -73.79, 74.0], [40.61, -73.78, 131.0], [40.61, -73.77, 1.0], [40.62, -74.4, 1.0], [40.62, -74.08, 4.0], [40.62, -74.07, 2.0], [40.62, -74.04, 2.0], [40.62, -74.03, 10.0], [40.62, -74.02, 25.0], [40.62, -74.01, 139.0], [40.62, -74.0, 117.0], [40.62, -73.99, 288.0], [40.62, -73.98, 181.0], [40.62, -73.97, 109.0], [40.62, -73.96, 45.0], [40.62, -73.95, 25.0], [40.62, -73.94, 7.0], [40.62, -73.92, 5.0], [40.62, -73.91, 1.0], [40.62, -73.9, 2.0], [40.62, -73.89, 1.0], [40.62, -73.88, 2.0], [40.62, -73.87, 38.0], [40.62, -73.86, 27.0], [40.62, -73.81, 2.0], [40.62, -73.79, 80.0], [40.62, -73.78, 140.0], [40.62, -73.77, 1.0], [40.62, -73.76, 1.0], [40.62, -73.66, 1.0], [40.63, -74.09, 5.0], [40.63, -74.08, 2.0], [40.63, -74.04, 2.0], [40.63, -74.03, 4.0], [40.63, -74.02, 23.0], [40.63, -74.01, 153.0], [40.63, -74.0, 166.0], [40.63, -73.99, 314.0], [40.63, -73.98, 236.0], [40.63, -73.97, 125.0], [40.63, -73.96, 56.0], [40.63, -73.95, 38.0], [40.63, -73.94, 19.0], [40.63, -73.93, 9.0], [40.63, -73.92, 8.0], [40.63, -73.91, 7.0], [40.63, -73.9, 7.0], [40.63, -73.89, 8.0], [40.63, -73.88, 6.0], [40.63, -73.87, 41.0], [40.63, -73.86, 41.0], [40.63, -73.8, 1.0], [40.63, -73.79, 100.0], [40.63, -73.78, 188.0], [40.63, -73.75, 1.0], [40.63, -73.72, 1.0], [40.63, -73.65, 1.0], [40.64, -74.18, 1.0], [40.64, -74.15, 1.0], [40.64, -74.14, 2.0], [40.64, -74.09, 20.0], [40.64, -74.06, 1.0], [40.64, -74.03, 7.0], [40.64, -74.02, 98.0], [40.64, -74.01, 506.0], [40.64, -74.0, 757.0], [40.64, -73.99, 1864.0], [40.64, -73.98, 2054.0], [40.64, -73.97, 1064.0], [40.64, -73.96, 499.0], [40.64, -73.95, 404.0], [40.64, -73.94, 91.0], [40.64, -73.93, 38.0], [40.64, -73.92, 29.0], [40.64, -73.91, 19.0], [40.64, -73.9, 13.0], [40.64, -73.89, 11.0], [40.64, -73.88, 6.0], [40.64, -73.87, 168.0], [40.64, -73.86, 130.0], [40.64, -73.85, 5.0], [40.64, -73.84, 10.0], [40.64, -73.83, 5.0], [40.64, -73.82, 5.0], [40.64, -73.81, 14.0], [40.64, -73.8, 24.0], [40.64, -73.79, 373.0], [40.64, -73.78, 481.0], [40.64, -73.77, 1.0], [40.64, -73.76, 1.0], [40.64, -73.63, 1.0], [40.64, -73.59, 1.0], [40.64, -73.55, 1.0], [40.65, -74.58, 1.0], [40.65, -74.32, 1.0], [40.65, -74.18, 1.0], [40.65, -74.09, 1.0], [40.65, -74.04, 1.0], [40.65, -74.03, 3.0], [40.65, -74.02, 72.0], [40.65, -74.01, 538.0], [40.65, -74.0, 721.0], [40.65, -73.99, 1750.0], [40.65, -73.98, 1796.0], [40.65, -73.97, 921.0], [40.65, -73.96, 444.0], [40.65, -73.95, 344.0], [40.65, -73.94, 86.0], [40.65, -73.93, 44.0], [40.65, -73.92, 42.0], [40.65, -73.91, 10.0], [40.65, -73.9, 10.0], [40.65, -73.89, 16.0], [40.65, -73.88, 8.0], [40.65, -73.87, 186.0], [40.65, -73.86, 97.0], [40.65, -73.85, 2.0], [40.65, -73.84, 2.0], [40.65, -73.83, 3.0], [40.65, -73.82, 7.0], [40.65, -73.81, 19.0], [40.65, -73.8, 18.0], [40.65, -73.79, 350.0], [40.65, -73.78, 606.0], [40.65, -73.75, 1.0], [40.66, -74.17, 2.0], [40.66, -74.07, 1.0], [40.66, -74.03, 1.0], [40.66, -74.02, 43.0], [40.66, -74.01, 391.0], [40.66, -74.0, 502.0], [40.66, -73.99, 1013.0], [40.66, -73.98, 688.0], [40.66, -73.97, 316.0], [40.66, -73.96, 220.0], [40.66, -73.95, 132.0], [40.66, -73.94, 52.0], [40.66, -73.93, 37.0], [40.66, -73.92, 25.0], [40.66, -73.91, 14.0], [40.66, -73.9, 10.0], [40.66, -73.89, 14.0], [40.66, -73.88, 9.0], [40.66, -73.87, 149.0], [40.66, -73.86, 105.0], [40.66, -73.84, 1.0], [40.66, -73.83, 1.0], [40.66, -73.82, 1.0], [40.66, -73.81, 8.0], [40.66, -73.8, 9.0], [40.66, -73.79, 333.0], [40.66, -73.78, 393.0], [40.66, -73.77, 1.0], [40.66, -73.76, 1.0], [40.66, -73.73, 2.0], [40.66, -73.65, 3.0], [40.66, -73.61, 1.0], [40.66, -73.55, 1.0], [40.67, -74.19, 1.0], [40.67, -74.14, 1.0], [40.67, -74.1, 1.0], [40.67, -74.08, 1.0], [40.67, -74.02, 63.0], [40.67, -74.01, 686.0], [40.67, -74.0, 1089.0], [40.67, -73.99, 1916.0], [40.67, -73.98, 1231.0], [40.67, -73.97, 545.0], [40.67, -73.96, 381.0], [40.67, -73.95, 219.0], [40.67, -73.94, 95.0], [40.67, -73.93, 54.0], [40.67, -73.92, 35.0], [40.67, -73.91, 18.0], [40.67, -73.9, 11.0], [40.67, -73.89, 29.0], [40.67, -73.88, 10.0], [40.67, -73.87, 339.0], [40.67, -73.86, 214.0], [40.67, -73.85, 4.0], [40.67, -73.84, 5.0], [40.67, -73.83, 7.0], [40.67, -73.82, 5.0], [40.67, -73.81, 7.0], [40.67, -73.8, 20.0], [40.67, -73.79, 498.0], [40.67, -73.78, 879.0], [40.67, -73.77, 2.0], [40.67, -73.76, 1.0], [40.67, -73.75, 1.0], [40.67, -73.74, 4.0], [40.67, -73.71, 2.0], [40.67, -73.7, 1.0], [40.67, -73.68, 1.0], [40.67, -73.65, 1.0], [40.67, -73.55, 1.0], [40.67, -73.49, 1.0], [40.67, -73.4, 1.0], [40.68, -74.19, 2.0], [40.68, -74.16, 1.0], [40.68, -74.11, 28.0], [40.68, -74.1, 27.0], [40.68, -74.03, 1.0], [40.68, -74.02, 90.0], [40.68, -74.01, 1078.0], [40.68, -74.0, 1818.0], [40.68, -73.99, 3272.0], [40.68, -73.98, 1830.0], [40.68, -73.97, 801.0], [40.68, -73.96, 666.0], [40.68, -73.95, 456.0], [40.68, -73.94, 165.0], [40.68, -73.93, 100.0], [40.68, -73.92, 55.0], [40.68, -73.91, 22.0], [40.68, -73.9, 13.0], [40.68, -73.89, 36.0], [40.68, -73.88, 16.0], [40.68, -73.87, 472.0], [40.68, -73.86, 305.0], [40.68, -73.85, 7.0], [40.68, -73.84, 3.0], [40.68, -73.83, 12.0], [40.68, -73.82, 19.0], [40.68, -73.81, 8.0], [40.68, -73.8, 18.0], [40.68, -73.79, 408.0], [40.68, -73.78, 766.0], [40.68, -73.77, 4.0], [40.68, -73.76, 2.0], [40.68, -73.73, 2.0], [40.68, -73.72, 1.0], [40.68, -73.71, 1.0], [40.68, -73.64, 2.0], [40.68, -73.59, 1.0], [40.68, -73.56, 1.0], [40.68, -73.54, 1.0], [40.69, -74.35, 1.0], [40.69, -74.19, 3.0], [40.69, -74.18, 68.0], [40.69, -74.11, 2.0], [40.69, -74.1, 1.0], [40.69, -74.07, 2.0], [40.69, -74.06, 1.0], [40.69, -74.04, 2.0], [40.69, -74.03, 3.0], [40.69, -74.02, 144.0], [40.69, -74.01, 1840.0], [40.69, -74.0, 2791.0], [40.69, -73.99, 4783.0], [40.69, -73.98, 3120.0], [40.69, -73.97, 1339.0], [40.69, -73.96, 953.0], [40.69, -73.95, 654.0], [40.69, -73.94, 223.0], [40.69, -73.93, 173.0], [40.69, -73.92, 98.0], [40.69, -73.91, 43.0], [40.69, -73.9, 26.0], [40.69, -73.89, 49.0], [40.69, -73.88, 26.0], [40.69, -73.87, 561.0], [40.69, -73.86, 446.0], [40.69, -73.85, 16.0], [40.69, -73.84, 7.0], [40.69, -73.83, 20.0], [40.69, -73.82, 19.0], [40.69, -73.81, 26.0], [40.69, -73.8, 17.0], [40.69, -73.79, 478.0], [40.69, -73.78, 862.0], [40.69, -73.74, 1.0], [40.69, -73.59, 1.0], [40.7, -74.19, 1.0], [40.7, -74.18, 34.0], [40.7, -74.1, 2.0], [40.7, -74.09, 1.0], [40.7, -74.05, 1.0], [40.7, -74.03, 2.0], [40.7, -74.02, 555.0], [40.7, -74.01, 2720.0], [40.7, -74.0, 2979.0], [40.7, -73.99, 5188.0], [40.7, -73.98, 3773.0], [40.7, -73.97, 1621.0], [40.7, -73.96, 1166.0], [40.7, -73.95, 855.0], [40.7, -73.94, 252.0], [40.7, -73.93, 156.0], [40.7, -73.92, 103.0], [40.7, -73.91, 41.0], [40.7, -73.9, 21.0], [40.7, -73.89, 39.0], [40.7, -73.88, 23.0], [40.7, -73.87, 486.0], [40.7, -73.86, 366.0], [40.7, -73.85, 6.0], [40.7, -73.84, 11.0], [40.7, -73.83, 15.0], [40.7, -73.82, 13.0], [40.7, -73.81, 23.0], [40.7, -73.8, 16.0], [40.7, -73.79, 330.0], [40.7, -73.78, 593.0], [40.7, -73.77, 2.0], [40.7, -73.75, 1.0], [40.7, -73.69, 1.0], [40.7, -73.67, 1.0], [40.7, -73.64, 1.0], [40.7, -73.46, 1.0], [40.7, -73.33, 1.0], [40.71, -75.46, 1.0], [40.71, -74.35, 1.0], [40.71, -74.29, 1.0], [40.71, -74.18, 1.0], [40.71, -74.17, 4.0], [40.71, -74.16, 4.0], [40.71, -74.14, 1.0], [40.71, -74.07, 1.0], [40.71, -74.05, 2.0], [40.71, -74.04, 6.0], [40.71, -74.03, 2.0], [40.71, -74.02, 1162.0], [40.71, -74.01, 8544.0], [40.71, -74.0, 9649.0], [40.71, -73.99, 14441.0], [40.71, -73.98, 8656.0], [40.71, -73.97, 3674.0], [40.71, -73.96, 2455.0], [40.71, -73.95, 1768.0], [40.71, -73.94, 385.0], [40.71, -73.93, 185.0], [40.71, -73.92, 123.0], [40.71, -73.91, 54.0], [40.71, -73.9, 23.0], [40.71, -73.89, 84.0], [40.71, -73.88, 40.0], [40.71, -73.87, 1063.0], [40.71, -73.86, 792.0], [40.71, -73.85, 9.0], [40.71, -73.84, 25.0], [40.71, -73.83, 21.0], [40.71, -73.82, 28.0], [40.71, -73.81, 31.0], [40.71, -73.8, 56.0], [40.71, -73.79, 679.0], [40.71, -73.78, 997.0], [40.71, -73.77, 2.0], [40.71, -73.75, 3.0], [40.71, -73.73, 1.0], [40.71, -73.72, 1.0], [40.71, -73.66, 1.0], [40.71, -73.63, 3.0], [40.71, -73.44, 1.0], [40.71, -73.4, 1.0], [40.72, -74.36, 2.0], [40.72, -74.33, 1.0], [40.72, -74.32, 1.0], [40.72, -74.09, 1.0], [40.72, -74.08, 2.0], [40.72, -74.07, 2.0], [40.72, -74.06, 2.0], [40.72, -74.05, 7.0], [40.72, -74.04, 35.0], [40.72, -74.03, 11.0], [40.72, -74.02, 1781.0], [40.72, -74.01, 13738.0], [40.72, -74.0, 18399.0], [40.72, -73.99, 26366.0], [40.72, -73.98, 15582.0], [40.72, -73.97, 5852.0], [40.72, -73.96, 2974.0], [40.72, -73.95, 2050.0], [40.72, -73.94, 428.0], [40.72, -73.93, 161.0], [40.72, -73.92, 126.0], [40.72, -73.91, 36.0], [40.72, -73.9, 28.0], [40.72, -73.89, 92.0], [40.72, -73.88, 44.0], [40.72, -73.87, 1092.0], [40.72, -73.86, 860.0], [40.72, -73.85, 21.0], [40.72, -73.84, 20.0], [40.72, -73.83, 25.0], [40.72, -73.82, 23.0], [40.72, -73.81, 25.0], [40.72, -73.8, 39.0], [40.72, -73.79, 850.0], [40.72, -73.78, 1263.0], [40.72, -73.77, 3.0], [40.72, -73.76, 42.0], [40.72, -73.75, 2.0], [40.72, -73.71, 1.0], [40.72, -73.59, 3.0], [40.72, -73.58, 2.0], [40.72, -73.54, 1.0], [40.72, -73.42, 1.0], [40.72, -73.33, 1.0], [40.73, -74.53, 1.0], [40.73, -74.17, 2.0], [40.73, -74.15, 2.0], [40.73, -74.14, 1.0], [40.73, -74.09, 2.0], [40.73, -74.07, 8.0], [40.73, -74.06, 5.0], [40.73, -74.05, 8.0], [40.73, -74.04, 16.0], [40.73, -74.03, 20.0], [40.73, -74.02, 1258.0], [40.73, -74.01, 13078.0], [40.73, -74.0, 23863.0], [40.73, -73.99, 37166.0], [40.73, -73.98, 23988.0], [40.73, -73.97, 9226.0], [40.73, -73.96, 3904.0], [40.73, -73.95, 2552.0], [40.73, -73.94, 390.0], [40.73, -73.93, 159.0], [40.73, -73.92, 145.0], [40.73, -73.91, 59.0], [40.73, -73.9, 66.0], [40.73, -73.89, 123.0], [40.73, -73.88, 59.0], [40.73, -73.87, 1103.0], [40.73, -73.86, 823.0], [40.73, -73.85, 28.0], [40.73, -73.84, 35.0], [40.73, -73.83, 17.0], [40.73, -73.82, 14.0], [40.73, -73.81, 28.0], [40.73, -73.8, 57.0], [40.73, -73.79, 700.0], [40.73, -73.78, 1175.0], [40.73, -73.77, 4.0], [40.73, -73.75, 1.0], [40.73, -73.74, 1.0], [40.73, -73.72, 6.0], [40.73, -73.69, 1.0], [40.73, -73.68, 1.0], [40.73, -73.66, 1.0], [40.73, -73.42, 1.0], [40.73, -73.41, 1.0], [40.74, -79.49, 1.0], [40.74, -74.38, 1.0], [40.74, -74.35, 1.0], [40.74, -74.23, 1.0], [40.74, -74.17, 3.0], [40.74, -74.16, 1.0], [40.74, -74.08, 1.0], [40.74, -74.07, 3.0], [40.74, -74.06, 2.0], [40.74, -74.05, 2.0], [40.74, -74.04, 14.0], [40.74, -74.03, 27.0], [40.74, -74.02, 1219.0], [40.74, -74.01, 14139.0], [40.74, -74.0, 28870.0], [40.74, -73.99, 48547.0], [40.74, -73.98, 36814.0], [40.74, -73.97, 16831.0], [40.74, -73.96, 6453.0], [40.74, -73.95, 4094.0], [40.74, -73.94, 580.0], [40.74, -73.93, 364.0], [40.74, -73.92, 460.0], [40.74, -73.91, 157.0], [40.74, -73.9, 198.0], [40.74, -73.89, 231.0], [40.74, -73.88, 137.0], [40.74, -73.87, 1558.0], [40.74, -73.86, 1266.0], [40.74, -73.85, 24.0], [40.74, -73.84, 20.0], [40.74, -73.83, 8.0], [40.74, -73.82, 16.0], [40.74, -73.81, 29.0], [40.74, -73.8, 42.0], [40.74, -73.79, 812.0], [40.74, -73.78, 1321.0], [40.74, -73.76, 1.0], [40.74, -73.74, 2.0], [40.74, -73.72, 1.0], [40.74, -73.71, 5.0], [40.74, -73.7, 1.0], [40.74, -73.69, 1.0], [40.74, -73.66, 1.0], [40.74, -73.64, 1.0], [40.74, -73.61, 1.0], [40.74, -73.59, 1.0], [40.75, -74.32, 1.0], [40.75, -74.23, 1.0], [40.75, -74.18, 2.0], [40.75, -74.14, 1.0], [40.75, -74.13, 1.0], [40.75, -74.06, 2.0], [40.75, -74.05, 2.0], [40.75, -74.04, 5.0], [40.75, -74.03, 34.0], [40.75, -74.02, 1492.0], [40.75, -74.01, 14250.0], [40.75, -74.0, 28375.0], [40.75, -73.99, 59391.0], [40.75, -73.98, 52905.0], [40.75, -73.97, 28561.0], [40.75, -73.96, 13645.0], [40.75, -73.95, 8101.0], [40.75, -73.94, 1139.0], [40.75, -73.93, 818.0], [40.75, -73.92, 822.0], [40.75, -73.91, 302.0], [40.75, -73.9, 245.0], [40.75, -73.89, 455.0], [40.75, -73.88, 278.0], [40.75, -73.87, 3068.0], [40.75, -73.86, 2238.0], [40.75, -73.85, 38.0], [40.75, -73.84, 18.0], [40.75, -73.83, 21.0], [40.75, -73.82, 14.0], [40.75, -73.81, 59.0], [40.75, -73.8, 95.0], [40.75, -73.79, 1569.0], [40.75, -73.78, 2122.0], [40.75, -73.77, 2.0], [40.75, -73.76, 2.0], [40.75, -73.74, 1.0], [40.75, -73.72, 1.0], [40.75, -73.71, 1.0], [40.75, -73.7, 1.0], [40.75, -73.68, 1.0], [40.75, -73.65, 1.0], [40.75, -73.56, 1.0], [40.75, -73.23, 1.0], [40.75, -72.81, 1.0], [40.76, -74.27, 1.0], [40.76, -74.25, 1.0], [40.76, -74.23, 1.0], [40.76, -74.22, 1.0], [40.76, -74.08, 1.0], [40.76, -74.07, 1.0], [40.76, -74.06, 1.0], [40.76, -74.05, 2.0], [40.76, -74.04, 3.0], [40.76, -74.03, 5.0], [40.76, -74.02, 1453.0], [40.76, -74.01, 12554.0], [40.76, -74.0, 23902.0], [40.76, -73.99, 64992.0], [40.76, -73.98, 64547.0], [40.76, -73.97, 37058.0], [40.76, -73.96, 27669.0], [40.76, -73.95, 14663.0], [40.76, -73.94, 1753.0], [40.76, -73.93, 832.0], [40.76, -73.92, 884.0], [40.76, -73.91, 347.0], [40.76, -73.9, 257.0], [40.76, -73.89, 404.0], [40.76, -73.88, 219.0], [40.76, -73.87, 4802.0], [40.76, -73.86, 3787.0], [40.76, -73.85, 23.0], [40.76, -73.84, 30.0], [40.76, -73.83, 35.0], [40.76, -73.82, 25.0], [40.76, -73.81, 72.0], [40.76, -73.8, 166.0], [40.76, -73.79, 2181.0], [40.76, -73.78, 3027.0], [40.76, -73.77, 1.0], [40.76, -73.75, 2.0], [40.76, -73.73, 1.0], [40.76, -73.72, 2.0], [40.76, -73.69, 2.0], [40.76, -73.61, 1.0], [40.76, -73.55, 2.0], [40.76, -73.49, 1.0], [40.76, -73.43, 1.0], [40.76, -73.42, 1.0], [40.76, -73.22, 2.0], [40.77, -74.23, 1.0], [40.77, -74.21, 1.0], [40.77, -74.18, 1.0], [40.77, -74.09, 1.0], [40.77, -74.08, 1.0], [40.77, -74.05, 2.0], [40.77, -74.04, 1.0], [40.77, -74.03, 7.0], [40.77, -74.02, 652.0], [40.77, -74.01, 5453.0], [40.77, -74.0, 10124.0], [40.77, -73.99, 30492.0], [40.77, -73.98, 43533.0], [40.77, -73.97, 35051.0], [40.77, -73.96, 29105.0], [40.77, -73.95, 17383.0], [40.77, -73.94, 1685.0], [40.77, -73.93, 628.0], [40.77, -73.92, 755.0], [40.77, -73.91, 310.0], [40.77, -73.9, 122.0], [40.77, -73.89, 290.0], [40.77, -73.88, 121.0], [40.77, -73.87, 1952.0], [40.77, -73.86, 1499.0], [40.77, -73.85, 24.0], [40.77, -73.84, 12.0], [40.77, -73.83, 34.0], [40.77, -73.82, 15.0], [40.77, -73.81, 26.0], [40.77, -73.8, 55.0], [40.77, -73.79, 997.0], [40.77, -73.78, 1321.0], [40.77, -73.77, 2.0], [40.77, -73.76, 1.0], [40.77, -73.69, 1.0], [40.77, -73.68, 2.0], [40.77, -73.66, 2.0], [40.77, -73.63, 1.0], [40.77, -73.53, 2.0], [40.77, -73.48, 1.0], [40.77, -73.2, 1.0], [40.78, -74.39, 1.0], [40.78, -74.14, 1.0], [40.78, -74.06, 2.0], [40.78, -74.03, 3.0], [40.78, -74.02, 226.0], [40.78, -74.01, 2723.0], [40.78, -74.0, 5136.0], [40.78, -73.99, 16309.0], [40.78, -73.98, 30246.0], [40.78, -73.97, 26379.0], [40.78, -73.96, 24548.0], [40.78, -73.95, 15730.0], [40.78, -73.94, 1709.0], [40.78, -73.93, 258.0], [40.78, -73.92, 258.0], [40.78, -73.91, 100.0], [40.78, -73.9, 72.0], [40.78, -73.89, 157.0], [40.78, -73.88, 45.0], [40.78, -73.87, 1084.0], [40.78, -73.86, 889.0], [40.78, -73.85, 5.0], [40.78, -73.84, 7.0], [40.78, -73.83, 8.0], [40.78, -73.82, 14.0], [40.78, -73.81, 24.0], [40.78, -73.8, 33.0], [40.78, -73.79, 606.0], [40.78, -73.78, 817.0], [40.78, -73.77, 1.0], [40.78, -73.76, 1.0], [40.78, -73.75, 1.0], [40.78, -73.73, 2.0], [40.78, -73.72, 1.0], [40.78, -73.56, 1.0], [40.78, -73.44, 1.0], [40.78, -73.42, 1.0], [40.78, -73.33, 1.0], [40.79, -74.21, 1.0], [40.79, -74.2, 1.0], [40.79, -74.19, 1.0], [40.79, -74.06, 2.0], [40.79, -74.05, 3.0], [40.79, -74.04, 3.0], [40.79, -74.03, 2.0], [40.79, -74.02, 103.0], [40.79, -74.01, 1143.0], [40.79, -74.0, 2213.0], [40.79, -73.99, 7252.0], [40.79, -73.98, 16259.0], [40.79, -73.97, 12480.0], [40.79, -73.96, 11787.0], [40.79, -73.95, 8530.0], [40.79, -73.94, 1587.0], [40.79, -73.93, 219.0], [40.79, -73.92, 64.0], [40.79, -73.91, 19.0], [40.79, -73.9, 15.0], [40.79, -73.89, 36.0], [40.79, -73.88, 22.0], [40.79, -73.87, 541.0], [40.79, -73.86, 465.0], [40.79, -73.85, 1.0], [40.79, -73.84, 7.0], [40.79, -73.83, 2.0], [40.79, -73.82, 3.0], [40.79, -73.81, 7.0], [40.79, -73.8, 29.0], [40.79, -73.79, 284.0], [40.79, -73.78, 419.0], [40.79, -73.77, 2.0], [40.79, -73.76, 1.0], [40.79, -73.43, 1.0], [40.8, -74.46, 1.0], [40.8, -74.25, 1.0], [40.8, -74.22, 1.0], [40.8, -74.1, 1.0], [40.8, -74.07, 1.0], [40.8, -74.02, 50.0], [40.8, -74.01, 613.0], [40.8, -74.0, 1409.0], [40.8, -73.99, 3894.0], [40.8, -73.98, 7483.0], [40.8, -73.97, 6578.0], [40.8, -73.96, 4867.0], [40.8, -73.95, 4865.0], [40.8, -73.94, 1682.0], [40.8, -73.93, 262.0], [40.8, -73.92, 85.0], [40.8, -73.91, 23.0], [40.8, -73.9, 5.0], [40.8, -73.89, 33.0], [40.8, -73.88, 4.0], [40.8, -73.87, 361.0], [40.8, -73.86, 274.0], [40.8, -73.85, 3.0], [40.8, -73.84, 1.0], [40.8, -73.83, 3.0], [40.8, -73.82, 2.0], [40.8, -73.81, 12.0], [40.8, -73.8, 12.0], [40.8, -73.79, 205.0], [40.8, -73.78, 275.0], [40.8, -73.75, 1.0], [40.8, -73.74, 1.0], [40.8, -73.71, 1.0], [40.8, -73.68, 1.0], [40.8, -73.65, 1.0], [40.8, -73.59, 1.0], [40.8, -73.51, 1.0], [40.81, -74.4, 1.0], [40.81, -74.36, 1.0], [40.81, -74.33, 1.0], [40.81, -74.29, 1.0], [40.81, -74.21, 1.0], [40.81, -74.18, 1.0], [40.81, -74.14, 1.0], [40.81, -74.12, 2.0], [40.81, -74.1, 1.0], [40.81, -74.08, 3.0], [40.81, -74.07, 1.0], [40.81, -74.06, 1.0], [40.81, -74.04, 1.0], [40.81, -74.02, 26.0], [40.81, -74.01, 386.0], [40.81, -74.0, 835.0], [40.81, -73.99, 2136.0], [40.81, -73.98, 3453.0], [40.81, -73.97, 4107.0], [40.81, -73.96, 3011.0], [40.81, -73.95, 2598.0], [40.81, -73.94, 1327.0], [40.81, -73.93, 197.0], [40.81, -73.92, 77.0], [40.81, -73.91, 32.0], [40.81, -73.9, 7.0], [40.81, -73.89, 28.0], [40.81, -73.88, 4.0], [40.81, -73.87, 270.0], [40.81, -73.86, 192.0], [40.81, -73.85, 4.0], [40.81, -73.84, 1.0], [40.81, -73.83, 3.0], [40.81, -73.81, 7.0], [40.81, -73.8, 3.0], [40.81, -73.79, 128.0], [40.81, -73.78, 186.0], [40.82, -74.21, 1.0], [40.82, -74.17, 1.0], [40.82, -74.1, 1.0], [40.82, -74.02, 12.0], [40.82, -74.01, 222.0], [40.82, -74.0, 519.0], [40.82, -73.99, 1315.0], [40.82, -73.98, 1359.0], [40.82, -73.97, 1298.0], [40.82, -73.96, 953.0], [40.82, -73.95, 1226.0], [40.82, -73.94, 706.0], [40.82, -73.93, 120.0], [40.82, -73.92, 77.0], [40.82, -73.91, 38.0], [40.82, -73.9, 13.0], [40.82, -73.89, 16.0], [40.82, -73.88, 8.0], [40.82, -73.87, 182.0], [40.82, -73.86, 83.0], [40.82, -73.85, 5.0], [40.82, -73.84, 3.0], [40.82, -73.83, 2.0], [40.82, -73.81, 3.0], [40.82, -73.8, 1.0], [40.82, -73.79, 60.0], [40.82, -73.78, 126.0], [40.82, -73.74, 1.0], [40.82, -73.73, 1.0], [40.82, -73.64, 1.0], [40.82, -73.24, 1.0], [40.83, -74.21, 1.0], [40.83, -74.2, 2.0], [40.83, -74.13, 1.0], [40.83, -74.08, 1.0], [40.83, -74.02, 6.0], [40.83, -74.01, 162.0], [40.83, -74.0, 399.0], [40.83, -73.99, 1033.0], [40.83, -73.98, 946.0], [40.83, -73.97, 739.0], [40.83, -73.96, 536.0], [40.83, -73.95, 596.0], [40.83, -73.94, 499.0], [40.83, -73.93, 94.0], [40.83, -73.92, 57.0], [40.83, -73.91, 22.0], [40.83, -73.9, 20.0], [40.83, -73.89, 13.0], [40.83, -73.88, 13.0], [40.83, -73.87, 122.0], [40.83, -73.86, 91.0], [40.83, -73.85, 6.0], [40.83, -73.84, 3.0], [40.83, -73.83, 3.0], [40.83, -73.82, 1.0], [40.83, -73.81, 3.0], [40.83, -73.8, 2.0], [40.83, -73.79, 60.0], [40.83, -73.78, 104.0], [40.83, -73.77, 1.0], [40.83, -73.64, 1.0], [40.83, -73.6, 1.0], [40.84, -74.46, 1.0], [40.84, -74.45, 1.0], [40.84, -74.44, 1.0], [40.84, -74.16, 1.0], [40.84, -74.11, 1.0], [40.84, -74.1, 2.0], [40.84, -74.07, 1.0], [40.84, -74.02, 8.0], [40.84, -74.01, 122.0], [40.84, -74.0, 315.0], [40.84, -73.99, 828.0], [40.84, -73.98, 833.0], [40.84, -73.97, 636.0], [40.84, -73.96, 465.0], [40.84, -73.95, 425.0], [40.84, -73.94, 280.0], [40.84, -73.93, 70.0], [40.84, -73.92, 86.0], [40.84, -73.91, 17.0], [40.84, -73.9, 18.0], [40.84, -73.89, 8.0], [40.84, -73.88, 6.0], [40.84, -73.87, 117.0], [40.84, -73.86, 110.0], [40.84, -73.85, 3.0], [40.84, -73.84, 4.0], [40.84, -73.81, 4.0], [40.84, -73.8, 3.0], [40.84, -73.79, 52.0], [40.84, -73.78, 100.0], [40.84, -73.7, 1.0], [40.84, -73.38, 1.0], [40.85, -74.16, 1.0], [40.85, -74.08, 1.0], [40.85, -74.07, 1.0], [40.85, -74.05, 1.0], [40.85, -74.02, 11.0], [40.85, -74.01, 142.0], [40.85, -74.0, 288.0], [40.85, -73.99, 859.0], [40.85, -73.98, 737.0], [40.85, -73.97, 508.0], [40.85, -73.96, 309.0], [40.85, -73.95, 307.0], [40.85, -73.94, 233.0], [40.85, -73.93, 89.0], [40.85, -73.92, 44.0], [40.85, -73.91, 29.0], [40.85, -73.9, 14.0], [40.85, -73.89, 15.0], [40.85, -73.88, 8.0], [40.85, -73.87, 123.0], [40.85, -73.86, 72.0], [40.85, -73.85, 3.0], [40.85, -73.84, 1.0], [40.85, -73.83, 3.0], [40.85, -73.82, 2.0], [40.85, -73.81, 2.0], [40.85, -73.8, 4.0], [40.85, -73.79, 58.0], [40.85, -73.78, 96.0], [40.85, -73.71, 1.0], [40.85, -73.69, 1.0], [40.86, -74.41, 1.0], [40.86, -74.08, 1.0], [40.86, -74.03, 1.0], [40.86, -74.02, 3.0], [40.86, -74.01, 63.0], [40.86, -74.0, 164.0], [40.86, -73.99, 467.0], [40.86, -73.98, 414.0], [40.86, -73.97, 266.0], [40.86, -73.96, 167.0], [40.86, -73.95, 159.0], [40.86, -73.94, 113.0], [40.86, -73.93, 43.0], [40.86, -73.92, 31.0], [40.86, -73.91, 20.0], [40.86, -73.9, 12.0], [40.86, -73.89, 6.0], [40.86, -73.88, 10.0], [40.86, -73.87, 92.0], [40.86, -73.86, 57.0], [40.86, -73.85, 3.0], [40.86, -73.84, 2.0], [40.86, -73.82, 1.0], [40.86, -73.81, 1.0], [40.86, -73.8, 3.0], [40.86, -73.79, 46.0], [40.86, -73.78, 65.0], [40.87, -74.31, 1.0], [40.87, -74.18, 1.0], [40.87, -74.02, 4.0], [40.87, -74.01, 86.0], [40.87, -74.0, 175.0], [40.87, -73.99, 414.0], [40.87, -73.98, 327.0], [40.87, -73.97, 196.0], [40.87, -73.96, 124.0], [40.87, -73.95, 133.0], [40.87, -73.94, 92.0], [40.87, -73.93, 29.0], [40.87, -73.92, 22.0], [40.87, -73.91, 26.0], [40.87, -73.9, 11.0], [40.87, -73.89, 6.0], [40.87, -73.88, 6.0], [40.87, -73.87, 63.0], [40.87, -73.86, 50.0], [40.87, -73.85, 4.0], [40.87, -73.84, 3.0], [40.87, -73.83, 2.0], [40.87, -73.81, 1.0], [40.87, -73.8, 3.0], [40.87, -73.79, 30.0], [40.87, -73.78, 70.0], [40.88, -74.03, 1.0], [40.88, -74.02, 9.0], [40.88, -74.01, 43.0], [40.88, -74.0, 74.0], [40.88, -73.99, 190.0], [40.88, -73.98, 182.0], [40.88, -73.97, 112.0], [40.88, -73.96, 54.0], [40.88, -73.95, 52.0], [40.88, -73.94, 30.0], [40.88, -73.93, 11.0], [40.88, -73.92, 18.0], [40.88, -73.91, 13.0], [40.88, -73.9, 9.0], [40.88, -73.89, 4.0], [40.88, -73.88, 4.0], [40.88, -73.87, 58.0], [40.88, -73.86, 31.0], [40.88, -73.84, 2.0], [40.88, -73.83, 1.0], [40.88, -73.82, 1.0], [40.88, -73.8, 6.0], [40.88, -73.79, 24.0], [40.88, -73.78, 41.0], [40.88, -72.42, 1.0], [40.89, -74.26, 1.0], [40.89, -74.12, 1.0], [40.89, -74.08, 1.0], [40.89, -74.05, 1.0], [40.89, -74.03, 1.0], [40.89, -74.02, 1.0], [40.89, -74.01, 25.0], [40.89, -74.0, 28.0], [40.89, -73.99, 130.0], [40.89, -73.98, 112.0], [40.89, -73.97, 96.0], [40.89, -73.96, 39.0], [40.89, -73.95, 34.0], [40.89, -73.94, 15.0], [40.89, -73.93, 5.0], [40.89, -73.92, 7.0], [40.89, -73.91, 4.0], [40.89, -73.9, 5.0], [40.89, -73.89, 4.0], [40.89, -73.88, 2.0], [40.89, -73.87, 34.0], [40.89, -73.86, 29.0], [40.89, -73.85, 1.0], [40.89, -73.84, 1.0], [40.89, -73.83, 1.0], [40.89, -73.81, 2.0], [40.89, -73.79, 23.0], [40.89, -73.78, 36.0], [40.9, -74.51, 1.0], [40.9, -74.26, 1.0], [40.9, -74.14, 1.0], [40.9, -74.13, 1.0], [40.9, -74.04, 1.0], [40.9, -74.01, 13.0], [40.9, -74.0, 24.0], [40.9, -73.99, 91.0], [40.9, -73.98, 81.0], [40.9, -73.97, 38.0], [40.9, -73.96, 21.0], [40.9, -73.95, 29.0], [40.9, -73.94, 9.0], [40.9, -73.93, 4.0], [40.9, -73.91, 1.0], [40.9, -73.9, 3.0], [40.9, -73.89, 2.0], [40.9, -73.87, 22.0], [40.9, -73.86, 12.0], [40.9, -73.85, 1.0], [40.9, -73.82, 1.0], [40.9, -73.81, 1.0], [40.9, -73.8, 1.0], [40.9, -73.79, 5.0], [40.9, -73.78, 20.0], [40.9, -73.77, 1.0], [40.9, -73.63, 1.0], [40.9, -73.45, 1.0], [40.9, -73.43, 1.0], [40.91, -74.39, 1.0], [40.91, -74.18, 1.0], [40.91, -74.1, 1.0], [40.91, -74.05, 1.0], [40.91, -74.02, 1.0], [40.91, -74.01, 11.0], [40.91, -74.0, 17.0], [40.91, -73.99, 35.0], [40.91, -73.98, 32.0], [40.91, -73.97, 21.0], [40.91, -73.96, 12.0], [40.91, -73.95, 6.0], [40.91, -73.94, 4.0], [40.91, -73.93, 1.0], [40.91, -73.92, 2.0], [40.91, -73.91, 1.0], [40.91, -73.9, 1.0], [40.91, -73.89, 1.0], [40.91, -73.88, 2.0], [40.91, -73.87, 12.0], [40.91, -73.86, 11.0], [40.91, -73.85, 1.0], [40.91, -73.79, 8.0], [40.91, -73.78, 15.0], [40.91, -73.74, 1.0], [40.92, -78.55, 1.0], [40.92, -74.1, 1.0], [40.92, -74.01, 4.0], [40.92, -74.0, 3.0], [40.92, -73.99, 11.0], [40.92, -73.98, 9.0], [40.92, -73.97, 9.0], [40.92, -73.96, 4.0], [40.92, -73.95, 5.0], [40.92, -73.94, 1.0], [40.92, -73.93, 2.0], [40.92, -73.92, 5.0], [40.92, -73.91, 1.0], [40.92, -73.9, 2.0], [40.92, -73.89, 2.0], [40.92, -73.88, 3.0], [40.92, -73.87, 5.0], [40.92, -73.86, 10.0], [40.92, -73.84, 1.0], [40.92, -73.8, 1.0], [40.92, -73.79, 1.0], [40.92, -73.78, 8.0], [40.93, -74.02, 1.0], [40.93, -74.0, 1.0], [40.93, -73.99, 10.0], [40.93, -73.98, 12.0], [40.93, -73.97, 6.0], [40.93, -73.96, 1.0], [40.93, -73.95, 3.0], [40.93, -73.94, 3.0], [40.93, -73.93, 1.0], [40.93, -73.9, 2.0], [40.93, -73.89, 2.0], [40.93, -73.88, 2.0], [40.93, -73.87, 6.0], [40.93, -73.86, 10.0], [40.93, -73.85, 2.0], [40.93, -73.79, 8.0], [40.93, -73.78, 4.0], [40.93, -73.75, 1.0], [40.93, -73.74, 1.0], [40.94, -74.02, 1.0], [40.94, -74.0, 3.0], [40.94, -73.99, 10.0], [40.94, -73.98, 5.0], [40.94, -73.97, 3.0], [40.94, -73.96, 2.0], [40.94, -73.88, 1.0], [40.94, -73.87, 8.0], [40.94, -73.86, 3.0], [40.94, -73.85, 1.0], [40.94, -73.79, 9.0], [40.94, -73.78, 9.0], [40.94, -73.76, 1.0], [40.94, -73.75, 1.0], [40.95, -74.01, 1.0], [40.95, -74.0, 1.0], [40.95, -73.99, 5.0], [40.95, -73.98, 3.0], [40.95, -73.97, 1.0], [40.95, -73.96, 1.0], [40.95, -73.93, 1.0], [40.95, -73.89, 2.0], [40.95, -73.87, 1.0], [40.95, -73.86, 2.0], [40.95, -73.84, 1.0], [40.95, -73.83, 2.0], [40.95, -73.82, 1.0], [40.95, -73.79, 2.0], [40.95, -73.78, 11.0], [40.95, -73.72, 1.0], [40.95, -73.09, 1.0], [40.96, -74.23, 1.0], [40.96, -74.0, 2.0], [40.96, -73.99, 3.0], [40.96, -73.98, 4.0], [40.96, -73.97, 1.0], [40.96, -73.96, 1.0], [40.96, -73.88, 3.0], [40.96, -73.87, 2.0], [40.96, -73.86, 2.0], [40.96, -73.81, 1.0], [40.96, -73.79, 1.0], [40.96, -73.78, 3.0], [40.96, -73.74, 1.0], [40.96, -73.69, 2.0], [40.97, -74.41, 1.0], [40.97, -74.01, 1.0], [40.97, -74.0, 2.0], [40.97, -73.99, 1.0], [40.97, -73.98, 3.0], [40.97, -73.97, 1.0], [40.97, -73.95, 1.0], [40.97, -73.91, 1.0], [40.97, -73.88, 2.0], [40.97, -73.87, 5.0], [40.97, -73.86, 5.0], [40.97, -73.8, 1.0], [40.97, -73.79, 2.0], [40.98, -74.17, 1.0], [40.98, -74.1, 2.0], [40.98, -74.05, 1.0], [40.98, -74.01, 2.0], [40.98, -73.99, 2.0], [40.98, -73.98, 2.0], [40.98, -73.96, 1.0], [40.98, -73.87, 2.0], [40.98, -73.79, 4.0], [40.98, -73.78, 1.0], [40.98, -73.77, 1.0], [40.98, -73.7, 1.0], [40.98, -73.68, 1.0], [40.99, -74.01, 2.0], [40.99, -74.0, 1.0], [40.99, -73.99, 1.0], [40.99, -73.92, 1.0], [40.99, -73.88, 1.0], [40.99, -73.87, 5.0], [40.99, -73.86, 2.0], [40.99, -73.83, 1.0], [40.99, -73.81, 2.0], [40.99, -73.79, 2.0], [40.99, -73.76, 1.0], [40.99, -73.75, 1.0], [40.99, -73.67, 2.0], [41.0, -74.2, 1.0], [41.0, -74.04, 1.0], [41.0, -74.01, 1.0], [41.0, -73.99, 3.0], [41.0, -73.98, 3.0], [41.0, -73.96, 1.0], [41.0, -73.88, 1.0], [41.0, -73.83, 1.0], [41.0, -73.81, 1.0], [41.0, -73.8, 1.0], [41.0, -73.79, 1.0], [41.0, -73.7, 1.0], [41.01, -74.0, 1.0], [41.01, -73.99, 4.0], [41.01, -73.98, 2.0], [41.01, -73.97, 1.0], [41.01, -73.89, 1.0], [41.01, -73.88, 1.0], [41.01, -73.86, 2.0], [41.01, -73.8, 1.0], [41.01, -73.78, 2.0], [41.02, -74.18, 1.0], [41.02, -73.99, 2.0], [41.02, -73.98, 2.0], [41.02, -73.97, 1.0], [41.02, -73.96, 2.0], [41.02, -73.95, 1.0], [41.02, -73.92, 1.0], [41.02, -73.88, 2.0], [41.02, -73.87, 5.0], [41.02, -73.86, 3.0], [41.02, -73.81, 1.0], [41.02, -73.8, 2.0], [41.02, -73.79, 1.0], [41.02, -73.78, 6.0], [41.02, -73.77, 1.0], [41.02, -73.67, 1.0], [41.02, -73.65, 1.0], [41.02, -73.62, 2.0], [41.03, -73.99, 3.0], [41.03, -73.98, 2.0], [41.03, -73.97, 3.0], [41.03, -73.89, 1.0], [41.03, -73.88, 2.0], [41.03, -73.87, 5.0], [41.03, -73.86, 1.0], [41.03, -73.81, 2.0], [41.03, -73.8, 1.0], [41.03, -73.79, 2.0], [41.03, -73.78, 7.0], [41.03, -73.77, 2.0], [41.03, -73.76, 2.0], [41.03, -73.6, 1.0], [41.03, -73.58, 1.0], [41.04, -73.98, 2.0], [41.04, -73.97, 2.0], [41.04, -73.95, 1.0], [41.04, -73.9, 2.0], [41.04, -73.89, 1.0], [41.04, -73.88, 2.0], [41.04, -73.87, 3.0], [41.04, -73.86, 2.0], [41.04, -73.8, 1.0], [41.04, -73.79, 2.0], [41.04, -73.78, 2.0], [41.04, -73.77, 1.0], [41.04, -73.69, 2.0], [41.04, -73.55, 1.0], [41.05, -74.0, 1.0], [41.05, -73.99, 3.0], [41.05, -73.98, 1.0], [41.05, -73.97, 2.0], [41.05, -73.89, 1.0], [41.05, -73.87, 4.0], [41.05, -73.86, 2.0], [41.05, -73.85, 1.0], [41.05, -73.83, 1.0], [41.05, -73.81, 1.0], [41.05, -73.79, 1.0], [41.05, -73.78, 2.0], [41.05, -73.54, 3.0], [41.05, -73.53, 1.0], [41.06, -74.0, 3.0], [41.06, -73.99, 2.0], [41.06, -73.98, 1.0], [41.06, -73.97, 2.0], [41.06, -73.95, 1.0], [41.06, -73.92, 1.0], [41.06, -73.89, 1.0], [41.06, -73.88, 1.0], [41.06, -73.87, 4.0], [41.06, -73.86, 2.0], [41.06, -73.84, 1.0], [41.06, -73.83, 2.0], [41.06, -73.79, 2.0], [41.06, -73.78, 3.0], [41.07, -74.09, 1.0], [41.07, -73.98, 1.0], [41.07, -73.87, 1.0], [41.07, -73.86, 1.0], [41.07, -73.78, 1.0], [41.07, -73.77, 1.0], [41.07, -73.55, 1.0], [41.08, -74.0, 1.0], [41.08, -73.98, 2.0], [41.08, -73.95, 2.0], [41.08, -73.91, 1.0], [41.08, -73.83, 1.0], [41.08, -73.71, 1.0], [41.09, -74.01, 1.0], [41.09, -73.99, 1.0], [41.09, -73.98, 1.0], [41.09, -73.97, 2.0], [41.09, -73.52, 1.0], [41.1, -73.99, 1.0], [41.1, -73.72, 1.0], [41.11, -74.05, 1.0], [41.11, -73.99, 1.0], [41.11, -73.86, 2.0], [41.11, -73.81, 1.0], [41.11, -73.79, 1.0], [41.11, -73.78, 1.0], [41.11, -73.72, 2.0], [41.12, -73.87, 1.0], [41.12, -73.78, 1.0], [41.12, -73.71, 1.0], [41.12, -73.37, 1.0], [41.13, -74.0, 1.0], [41.13, -73.38, 1.0], [41.14, -73.99, 1.0], [41.14, -73.88, 1.0], [41.14, -73.81, 1.0], [41.14, -73.43, 1.0], [41.15, -74.01, 1.0], [41.15, -73.99, 2.0], [41.15, -73.79, 1.0], [41.16, -73.86, 1.0], [41.17, -73.99, 1.0], [41.17, -73.31, 2.0], [41.18, -73.86, 1.0], [41.19, -73.88, 2.0], [41.19, -73.85, 1.0], [41.2, -75.24, 1.0], [41.2, -73.87, 1.0], [41.2, -73.79, 1.0], [41.21, -73.8, 1.0], [41.22, -73.9, 1.0], [41.22, -73.25, 1.0], [41.24, -73.79, 1.0], [41.26, -73.69, 1.0], [41.28, -74.0, 1.0], [41.28, -73.7, 1.0], [41.29, -73.68, 2.0], [41.3, -72.93, 1.0], [41.3, -72.92, 1.0], [41.31, -73.78, 1.0], [41.32, -73.98, 1.0], [41.32, -73.9, 1.0], [41.32, -73.88, 1.0], [41.33, -73.79, 1.0], [41.36, -73.99, 1.0], [41.39, -74.0, 1.0], [41.39, -73.99, 1.0], [41.42, -73.98, 1.0], [41.43, -73.98, 1.0], [41.48, -73.78, 1.0], [41.69, -73.91, 1.0], [41.69, -73.9, 1.0], [42.09, -79.57, 1.0], [42.46, -70.51, 1.0], [43.02, -70.85, 1.0], [43.14, -72.59, 1.0], [43.15, -66.97, 1.0], [43.49, -74.2, 1.0], [43.67, -73.97, 1.0], [43.91, -71.88, 1.0], [43.92, -73.99, 1.0]],\n",
       "                {&quot;blur&quot;: 10, &quot;maxZoom&quot;: 1, &quot;minOpacity&quot;: 0.3, &quot;radius&quot;: 5}\n",
       "            ).addTo(map_d7522c338afd986c51c5bf421aeac842);\n",
       "        \n",
       "&lt;/script&gt;\" style=\"position:absolute;width:100%;height:100%;left:0;top:0;border:none !important;\" allowfullscreen webkitallowfullscreen mozallowfullscreen></iframe></div></div>"
      ],
      "text/plain": [
       "<folium.folium.Map at 0x7fc500c53990>"
      ]
     },
     "execution_count": 15,
     "metadata": {},
     "output_type": "execute_result"
    }
   ],
   "source": [
    "heatmap = HeatMap(list(zip(dropoff.dropoff_latitude_round.values, \n",
    "                           dropoff.dropoff_longitude_round.values,\n",
    "                           dropoff.Num_Trips.values.astype(float))),\n",
    "                  min_opacity = 0.3,\n",
    "                  radius = 5, blur = 10,\n",
    "                  max_zoom = 1)\n",
    "\n",
    "pickup_map.add_child(heatmap)\n",
    "\n",
    "pickup_map"
   ]
  }
 ],
 "metadata": {
  "kernelspec": {
   "display_name": "Python 3",
   "language": "python",
   "name": "python3"
  },
  "language_info": {
   "codemirror_mode": {
    "name": "ipython",
    "version": 3
   },
   "file_extension": ".py",
   "mimetype": "text/x-python",
   "name": "python",
   "nbconvert_exporter": "python",
   "pygments_lexer": "ipython3",
   "version": "3.7.12"
  },
  "papermill": {
   "default_parameters": {},
   "duration": 31.519514,
   "end_time": "2022-10-13T09:03:09.452727",
   "environment_variables": {},
   "exception": null,
   "input_path": "__notebook__.ipynb",
   "output_path": "__notebook__.ipynb",
   "parameters": {},
   "start_time": "2022-10-13T09:02:37.933213",
   "version": "2.3.4"
  }
 },
 "nbformat": 4,
 "nbformat_minor": 5
}
